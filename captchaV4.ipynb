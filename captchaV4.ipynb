{
  "nbformat": 4,
  "nbformat_minor": 0,
  "metadata": {
    "colab": {
      "provenance": []
    },
    "kernelspec": {
      "name": "python3",
      "display_name": "Python 3"
    },
    "language_info": {
      "name": "python"
    },
    "accelerator": "GPU",
    "gpuClass": "standard"
  },
  "cells": [
    {
      "cell_type": "code",
      "execution_count": 1,
      "metadata": {
        "colab": {
          "base_uri": "https://localhost:8080/"
        },
        "id": "PQYoX15yV4bp",
        "outputId": "9374fccd-9163-4842-b580-42df99e91bf7"
      },
      "outputs": [
        {
          "output_type": "stream",
          "name": "stdout",
          "text": [
            "Get:1 https://cloud.r-project.org/bin/linux/ubuntu bionic-cran40/ InRelease [3,626 B]\n",
            "Ign:2 https://developer.download.nvidia.com/compute/machine-learning/repos/ubuntu1804/x86_64  InRelease\n",
            "Hit:3 https://developer.download.nvidia.com/compute/cuda/repos/ubuntu1804/x86_64  InRelease\n",
            "Hit:4 http://archive.ubuntu.com/ubuntu bionic InRelease\n",
            "Hit:5 https://developer.download.nvidia.com/compute/machine-learning/repos/ubuntu1804/x86_64  Release\n",
            "Get:6 http://archive.ubuntu.com/ubuntu bionic-updates InRelease [88.7 kB]\n",
            "Get:7 http://security.ubuntu.com/ubuntu bionic-security InRelease [88.7 kB]\n",
            "Get:8 http://ppa.launchpad.net/c2d4u.team/c2d4u4.0+/ubuntu bionic InRelease [15.9 kB]\n",
            "Get:9 http://archive.ubuntu.com/ubuntu bionic-backports InRelease [83.3 kB]\n",
            "Hit:10 http://ppa.launchpad.net/cran/libgit2/ubuntu bionic InRelease\n",
            "Hit:11 http://ppa.launchpad.net/deadsnakes/ppa/ubuntu bionic InRelease\n",
            "Hit:12 http://ppa.launchpad.net/graphics-drivers/ppa/ubuntu bionic InRelease\n",
            "Get:14 http://ppa.launchpad.net/c2d4u.team/c2d4u4.0+/ubuntu bionic/main Sources [2,235 kB]\n",
            "Get:15 http://ppa.launchpad.net/c2d4u.team/c2d4u4.0+/ubuntu bionic/main amd64 Packages [1,143 kB]\n",
            "Fetched 3,659 kB in 6s (574 kB/s)\n",
            "Reading package lists... Done\n",
            "Reading package lists... Done\n",
            "Building dependency tree       \n",
            "Reading state information... Done\n",
            "git is already the newest version (1:2.17.1-1ubuntu0.13).\n",
            "The following package was automatically installed and is no longer required:\n",
            "  libnvidia-common-460\n",
            "Use 'apt autoremove' to remove it.\n",
            "0 upgraded, 0 newly installed, 0 to remove and 20 not upgraded.\n"
          ]
        }
      ],
      "source": [
        "!apt-get update\n",
        "!apt-get install git"
      ]
    },
    {
      "cell_type": "code",
      "source": [
        "!git clone https://github.com/Hamster-yang/ai_captcha.git"
      ],
      "metadata": {
        "colab": {
          "base_uri": "https://localhost:8080/"
        },
        "id": "o_oTweFFV5kg",
        "outputId": "ea40506f-8f13-4317-9e40-8e1cf03cd89b"
      },
      "execution_count": 2,
      "outputs": [
        {
          "output_type": "stream",
          "name": "stdout",
          "text": [
            "Cloning into 'ai_captcha'...\n",
            "remote: Enumerating objects: 181346, done.\u001b[K\n",
            "remote: Counting objects: 100% (61337/61337), done.\u001b[K\n",
            "remote: Compressing objects: 100% (61307/61307), done.\u001b[K\n",
            "remote: Total 181346 (delta 42), reused 61318 (delta 25), pack-reused 120009\n",
            "Receiving objects: 100% (181346/181346), 202.28 MiB | 26.03 MiB/s, done.\n",
            "Resolving deltas: 100% (43/43), done.\n",
            "Checking out files: 100% (32194/32194), done.\n"
          ]
        }
      ]
    },
    {
      "cell_type": "code",
      "source": [
        "import numpy as np\n",
        "import pandas as pd\n",
        "from sklearn.model_selection import train_test_split\n",
        "import cv2\n",
        "import matplotlib.pyplot as plt\n",
        "import random\n",
        "\n",
        "from tensorflow.keras.layers import Conv2D, MaxPooling2D, Dropout, Flatten, Dense, Layer, BatchNormalization \n",
        "from tensorflow.keras.optimizers import Adam\n",
        "from tensorflow.keras import Model, Input \n",
        "from tensorflow.keras.callbacks import EarlyStopping\n",
        "\n",
        "import plotly.express as px\n",
        "import plotly.graph_objects as go\n",
        "\n",
        "import os"
      ],
      "metadata": {
        "id": "zkGK7f-leZr1"
      },
      "execution_count": 22,
      "outputs": []
    },
    {
      "cell_type": "code",
      "source": [
        "import string\n",
        "captcha_list = []\n",
        "img_shape = (30, 120, 1)\n",
        "symbols = string.ascii_lowercase+ string.ascii_uppercase + \"0123456789\"\n",
        "\n",
        "len_symbols = len(symbols) # the number of symbols\n",
        "nSamples = len(os.listdir('/content/ai_captcha/train')) # the number of samples 'captchas'\n",
        "len_captcha = 5\n",
        "\n",
        "X = np.zeros((nSamples, 30, 120, 1)) # 1070 * 50 * 200\n",
        "y = np.zeros((5, nSamples, len_symbols)) # 5 * 1070 * 36"
      ],
      "metadata": {
        "id": "ruSouMnneaJM"
      },
      "execution_count": 4,
      "outputs": []
    },
    {
      "cell_type": "code",
      "source": [
        "symbols"
      ],
      "metadata": {
        "colab": {
          "base_uri": "https://localhost:8080/",
          "height": 35
        },
        "id": "aV_0mmxUfTHO",
        "outputId": "f7851688-80ce-4d0a-dc4e-2868f5e3f1d3"
      },
      "execution_count": 62,
      "outputs": [
        {
          "output_type": "execute_result",
          "data": {
            "text/plain": [
              "'abcdefghijklmnopqrstuvwxyzABCDEFGHIJKLMNOPQRSTUVWXYZ0123456789'"
            ],
            "application/vnd.google.colaboratory.intrinsic+json": {
              "type": "string"
            }
          },
          "metadata": {},
          "execution_count": 62
        }
      ]
    },
    {
      "cell_type": "code",
      "source": [
        "for i, captcha in enumerate(os.listdir('/content/ai_captcha/train')):\n",
        "    captcha_code = captcha.split(\".\")[0]\n",
        "    captcha_list.append(captcha_code)\n",
        "    captcha_cv2 = cv2.imread(os.path.join('/content/ai_captcha/train', captcha), cv2.IMREAD_GRAYSCALE)\n",
        "    captcha_cv2 = captcha_cv2 / 255.0\n",
        "    captcha_cv2 = np.reshape(captcha_cv2, img_shape)\n",
        "    targs = np.zeros((len_captcha, len_symbols))\n",
        "    \n",
        "    for a, b in enumerate(captcha_code):\n",
        "        targs[a, symbols.index(b)] = 1\n",
        "    \n",
        "    X[i] = captcha_cv2\n",
        "    y[:, i] = targs"
      ],
      "metadata": {
        "id": "KYO4ZkXjec1-"
      },
      "execution_count": 5,
      "outputs": []
    },
    {
      "cell_type": "code",
      "source": [
        "print(\"shape of X:\", X.shape)\n",
        "print(\"shape of y:\", y.shape)"
      ],
      "metadata": {
        "colab": {
          "base_uri": "https://localhost:8080/"
        },
        "id": "jY1atx4ieedM",
        "outputId": "4ddbafbe-9060-421b-ccc8-acd82acaac46"
      },
      "execution_count": 6,
      "outputs": [
        {
          "output_type": "stream",
          "name": "stdout",
          "text": [
            "shape of X: (10000, 30, 120, 1)\n",
            "shape of y: (5, 10000, 62)\n"
          ]
        }
      ]
    },
    {
      "cell_type": "code",
      "source": [
        "X_train = X[:10000] \n",
        "y_train = y[:, :10000]\n",
        "X_test = X[856:]\n",
        "y_test = y[:, 856:]"
      ],
      "metadata": {
        "id": "SsSt4AeZfuAi"
      },
      "execution_count": 7,
      "outputs": []
    },
    {
      "cell_type": "code",
      "source": [
        "captcha = Input(shape=(30,120,1))\n",
        "x = Conv2D(16, (3,3),padding='same',activation='relu')(captcha)\n",
        "x = MaxPooling2D((2,2) , padding='same')(x)\n",
        "x = Conv2D(32, (3,3),padding='same',activation='relu')(x)\n",
        "x = MaxPooling2D((2,2) , padding='same')(x)\n",
        "x = Conv2D(32, (3,3),padding='same',activation='relu')(x)\n",
        "x = MaxPooling2D((2,2) , padding='same')(x)\n",
        "x = Conv2D(32, (3,3),padding='same',activation='relu')(x)\n",
        "x = MaxPooling2D((2,2) , padding='same')(x)\n",
        "x = BatchNormalization()(x)\n",
        "\n",
        "\n",
        "flatOutput = Flatten()(x)\n",
        "\n",
        "dense1 = Dense(64 , activation='relu')(flatOutput)\n",
        "dropout1= Dropout(0.5)(dense1)\n",
        "output1 = Dense(len_symbols , activation='sigmoid' , name='char_1')(dropout1)\n",
        "\n",
        "dense2 = Dense(64 , activation='relu')(flatOutput)\n",
        "dropout2= Dropout(0.5)(dense2)\n",
        "output2 = Dense(len_symbols , activation='sigmoid' , name='char_2')(dropout2)\n",
        "    \n",
        "dense3 = Dense(64 , activation='relu')(flatOutput)\n",
        "dropout3= Dropout(0.5)(dense3)\n",
        "output3 = Dense(len_symbols , activation='sigmoid' , name='char_3')(dropout3)\n",
        "    \n",
        "dense4 = Dense(64 , activation='relu')(flatOutput)\n",
        "dropout4= Dropout(0.5)(dense4)\n",
        "output4 = Dense(len_symbols , activation='sigmoid' , name='char_4')(dropout4)\n",
        "    \n",
        "dense5 = Dense(64 , activation='relu')(flatOutput)\n",
        "dropout5= Dropout(0.5)(dense5)\n",
        "output5 = Dense(len_symbols , activation='sigmoid' , name='char_5')(dropout5)\n",
        "    \n",
        "model = Model(inputs = captcha , outputs=[output1 , output2 , output3 , output4 , output5])"
      ],
      "metadata": {
        "id": "rRWpSJ-Zeh9f"
      },
      "execution_count": 8,
      "outputs": []
    },
    {
      "cell_type": "code",
      "source": [
        "model.compile(loss='categorical_crossentropy', optimizer='adam', metrics=[\"accuracy\"])\n",
        "earlystopping = EarlyStopping(monitor =\"val_loss\",  \n",
        "                             mode =\"min\", patience = 5,  \n",
        "                             restore_best_weights = True) \n",
        "\n",
        "history = model.fit(X_train, [y_train[0], y_train[1], y_train[2], y_train[3], y_train[4]], batch_size=32, epochs=60, verbose=1, validation_split=0.2, callbacks =[earlystopping])"
      ],
      "metadata": {
        "colab": {
          "base_uri": "https://localhost:8080/"
        },
        "id": "2TvxVqmJekqD",
        "outputId": "da45936e-c42d-4b31-c076-aab2142b53a7"
      },
      "execution_count": 9,
      "outputs": [
        {
          "output_type": "stream",
          "name": "stdout",
          "text": [
            "Epoch 1/60\n",
            "250/250 [==============================] - 14s 15ms/step - loss: 20.6564 - char_1_loss: 4.1325 - char_2_loss: 4.1283 - char_3_loss: 4.1327 - char_4_loss: 4.1305 - char_5_loss: 4.1323 - char_1_accuracy: 0.0196 - char_2_accuracy: 0.0266 - char_3_accuracy: 0.0213 - char_4_accuracy: 0.0261 - char_5_accuracy: 0.0203 - val_loss: 20.5867 - val_char_1_loss: 4.1168 - val_char_2_loss: 4.1154 - val_char_3_loss: 4.1181 - val_char_4_loss: 4.1183 - val_char_5_loss: 4.1181 - val_char_1_accuracy: 0.0330 - val_char_2_accuracy: 0.0370 - val_char_3_accuracy: 0.0370 - val_char_4_accuracy: 0.0325 - val_char_5_accuracy: 0.0320\n",
            "Epoch 2/60\n",
            "250/250 [==============================] - 3s 11ms/step - loss: 20.5495 - char_1_loss: 4.1130 - char_2_loss: 4.1064 - char_3_loss: 4.1132 - char_4_loss: 4.1082 - char_5_loss: 4.1087 - char_1_accuracy: 0.0241 - char_2_accuracy: 0.0376 - char_3_accuracy: 0.0304 - char_4_accuracy: 0.0339 - char_5_accuracy: 0.0272 - val_loss: 20.5234 - val_char_1_loss: 4.1091 - val_char_2_loss: 4.1014 - val_char_3_loss: 4.1036 - val_char_4_loss: 4.1061 - val_char_5_loss: 4.1031 - val_char_1_accuracy: 0.0330 - val_char_2_accuracy: 0.0370 - val_char_3_accuracy: 0.0370 - val_char_4_accuracy: 0.0325 - val_char_5_accuracy: 0.0320\n",
            "Epoch 3/60\n",
            "250/250 [==============================] - 3s 12ms/step - loss: 20.5003 - char_1_loss: 4.1027 - char_2_loss: 4.0942 - char_3_loss: 4.1025 - char_4_loss: 4.1013 - char_5_loss: 4.0996 - char_1_accuracy: 0.0284 - char_2_accuracy: 0.0389 - char_3_accuracy: 0.0304 - char_4_accuracy: 0.0342 - char_5_accuracy: 0.0309 - val_loss: 20.4909 - val_char_1_loss: 4.1014 - val_char_2_loss: 4.0957 - val_char_3_loss: 4.0968 - val_char_4_loss: 4.0982 - val_char_5_loss: 4.0988 - val_char_1_accuracy: 0.0335 - val_char_2_accuracy: 0.0370 - val_char_3_accuracy: 0.0370 - val_char_4_accuracy: 0.0325 - val_char_5_accuracy: 0.0320\n",
            "Epoch 4/60\n",
            "250/250 [==============================] - 3s 12ms/step - loss: 20.4171 - char_1_loss: 4.0711 - char_2_loss: 4.0744 - char_3_loss: 4.0881 - char_4_loss: 4.0904 - char_5_loss: 4.0931 - char_1_accuracy: 0.0316 - char_2_accuracy: 0.0408 - char_3_accuracy: 0.0336 - char_4_accuracy: 0.0327 - char_5_accuracy: 0.0308 - val_loss: 20.1315 - val_char_1_loss: 3.9626 - val_char_2_loss: 4.0130 - val_char_3_loss: 4.0534 - val_char_4_loss: 4.0542 - val_char_5_loss: 4.0484 - val_char_1_accuracy: 0.0450 - val_char_2_accuracy: 0.0465 - val_char_3_accuracy: 0.0420 - val_char_4_accuracy: 0.0470 - val_char_5_accuracy: 0.0330\n",
            "Epoch 5/60\n",
            "250/250 [==============================] - 3s 11ms/step - loss: 18.8134 - char_1_loss: 3.5304 - char_2_loss: 3.7261 - char_3_loss: 3.8401 - char_4_loss: 3.9027 - char_5_loss: 3.8142 - char_1_accuracy: 0.0880 - char_2_accuracy: 0.0774 - char_3_accuracy: 0.0597 - char_4_accuracy: 0.0593 - char_5_accuracy: 0.0589 - val_loss: 19.2002 - val_char_1_loss: 3.5836 - val_char_2_loss: 3.7684 - val_char_3_loss: 3.9304 - val_char_4_loss: 4.0500 - val_char_5_loss: 3.8678 - val_char_1_accuracy: 0.0820 - val_char_2_accuracy: 0.0635 - val_char_3_accuracy: 0.0490 - val_char_4_accuracy: 0.0455 - val_char_5_accuracy: 0.0460\n",
            "Epoch 6/60\n",
            "250/250 [==============================] - 3s 12ms/step - loss: 16.2833 - char_1_loss: 2.7278 - char_2_loss: 3.1145 - char_3_loss: 3.4414 - char_4_loss: 3.6222 - char_5_loss: 3.3774 - char_1_accuracy: 0.1804 - char_2_accuracy: 0.1385 - char_3_accuracy: 0.1001 - char_4_accuracy: 0.0876 - char_5_accuracy: 0.1036 - val_loss: 15.0515 - val_char_1_loss: 2.2122 - val_char_2_loss: 2.8680 - val_char_3_loss: 3.2492 - val_char_4_loss: 3.4417 - val_char_5_loss: 3.2803 - val_char_1_accuracy: 0.3035 - val_char_2_accuracy: 0.1785 - val_char_3_accuracy: 0.1375 - val_char_4_accuracy: 0.1300 - val_char_5_accuracy: 0.1125\n",
            "Epoch 7/60\n",
            "250/250 [==============================] - 3s 11ms/step - loss: 14.2640 - char_1_loss: 2.1264 - char_2_loss: 2.6516 - char_3_loss: 3.1174 - char_4_loss: 3.3614 - char_5_loss: 3.0072 - char_1_accuracy: 0.2920 - char_2_accuracy: 0.2225 - char_3_accuracy: 0.1482 - char_4_accuracy: 0.1287 - char_5_accuracy: 0.1569 - val_loss: 12.4391 - val_char_1_loss: 1.5941 - val_char_2_loss: 2.2261 - val_char_3_loss: 2.8702 - val_char_4_loss: 3.1267 - val_char_5_loss: 2.6220 - val_char_1_accuracy: 0.4720 - val_char_2_accuracy: 0.3450 - val_char_3_accuracy: 0.2240 - val_char_4_accuracy: 0.1805 - val_char_5_accuracy: 0.2445\n",
            "Epoch 8/60\n",
            "250/250 [==============================] - 3s 13ms/step - loss: 12.4678 - char_1_loss: 1.6913 - char_2_loss: 2.2297 - char_3_loss: 2.8193 - char_4_loss: 3.1178 - char_5_loss: 2.6097 - char_1_accuracy: 0.4109 - char_2_accuracy: 0.2984 - char_3_accuracy: 0.2074 - char_4_accuracy: 0.1639 - char_5_accuracy: 0.2290 - val_loss: 11.1069 - val_char_1_loss: 1.3033 - val_char_2_loss: 1.9231 - val_char_3_loss: 2.6388 - val_char_4_loss: 2.9063 - val_char_5_loss: 2.3353 - val_char_1_accuracy: 0.5250 - val_char_2_accuracy: 0.3880 - val_char_3_accuracy: 0.2560 - val_char_4_accuracy: 0.2130 - val_char_5_accuracy: 0.2785\n",
            "Epoch 9/60\n",
            "250/250 [==============================] - 3s 12ms/step - loss: 11.1462 - char_1_loss: 1.4125 - char_2_loss: 1.9419 - char_3_loss: 2.5964 - char_4_loss: 2.8965 - char_5_loss: 2.2989 - char_1_accuracy: 0.4865 - char_2_accuracy: 0.3738 - char_3_accuracy: 0.2537 - char_4_accuracy: 0.2021 - char_5_accuracy: 0.2907 - val_loss: 10.0198 - val_char_1_loss: 1.1776 - val_char_2_loss: 1.7687 - val_char_3_loss: 2.4099 - val_char_4_loss: 2.7149 - val_char_5_loss: 1.9487 - val_char_1_accuracy: 0.5545 - val_char_2_accuracy: 0.4460 - val_char_3_accuracy: 0.3090 - val_char_4_accuracy: 0.2485 - val_char_5_accuracy: 0.3865\n",
            "Epoch 10/60\n",
            "250/250 [==============================] - 3s 12ms/step - loss: 10.0937 - char_1_loss: 1.1841 - char_2_loss: 1.7377 - char_3_loss: 2.4120 - char_4_loss: 2.6920 - char_5_loss: 2.0679 - char_1_accuracy: 0.5674 - char_2_accuracy: 0.4261 - char_3_accuracy: 0.2886 - char_4_accuracy: 0.2412 - char_5_accuracy: 0.3459 - val_loss: 8.5882 - val_char_1_loss: 0.7682 - val_char_2_loss: 1.4333 - val_char_3_loss: 2.1996 - val_char_4_loss: 2.4164 - val_char_5_loss: 1.7707 - val_char_1_accuracy: 0.7335 - val_char_2_accuracy: 0.5475 - val_char_3_accuracy: 0.3995 - val_char_4_accuracy: 0.3550 - val_char_5_accuracy: 0.4200\n",
            "Epoch 11/60\n",
            "250/250 [==============================] - 3s 13ms/step - loss: 9.1753 - char_1_loss: 1.0065 - char_2_loss: 1.5629 - char_3_loss: 2.2284 - char_4_loss: 2.5305 - char_5_loss: 1.8470 - char_1_accuracy: 0.6326 - char_2_accuracy: 0.4851 - char_3_accuracy: 0.3399 - char_4_accuracy: 0.2655 - char_5_accuracy: 0.4019 - val_loss: 7.4516 - val_char_1_loss: 0.5853 - val_char_2_loss: 1.2137 - val_char_3_loss: 1.9811 - val_char_4_loss: 2.1910 - val_char_5_loss: 1.4806 - val_char_1_accuracy: 0.8130 - val_char_2_accuracy: 0.6410 - val_char_3_accuracy: 0.4560 - val_char_4_accuracy: 0.4105 - val_char_5_accuracy: 0.5405\n",
            "Epoch 12/60\n",
            "250/250 [==============================] - 3s 13ms/step - loss: 8.3577 - char_1_loss: 0.8852 - char_2_loss: 1.3743 - char_3_loss: 2.0694 - char_4_loss: 2.3520 - char_5_loss: 1.6768 - char_1_accuracy: 0.6709 - char_2_accuracy: 0.5431 - char_3_accuracy: 0.3796 - char_4_accuracy: 0.3119 - char_5_accuracy: 0.4557 - val_loss: 6.9507 - val_char_1_loss: 0.6112 - val_char_2_loss: 1.1085 - val_char_3_loss: 1.8432 - val_char_4_loss: 2.0671 - val_char_5_loss: 1.3207 - val_char_1_accuracy: 0.7915 - val_char_2_accuracy: 0.6695 - val_char_3_accuracy: 0.5005 - val_char_4_accuracy: 0.4295 - val_char_5_accuracy: 0.5735\n",
            "Epoch 13/60\n",
            "250/250 [==============================] - 3s 13ms/step - loss: 7.7782 - char_1_loss: 0.7757 - char_2_loss: 1.2616 - char_3_loss: 1.9531 - char_4_loss: 2.2560 - char_5_loss: 1.5318 - char_1_accuracy: 0.7181 - char_2_accuracy: 0.5836 - char_3_accuracy: 0.4110 - char_4_accuracy: 0.3350 - char_5_accuracy: 0.4974 - val_loss: 7.6613 - val_char_1_loss: 0.8191 - val_char_2_loss: 1.3452 - val_char_3_loss: 1.9202 - val_char_4_loss: 2.1439 - val_char_5_loss: 1.4330 - val_char_1_accuracy: 0.7010 - val_char_2_accuracy: 0.5945 - val_char_3_accuracy: 0.4650 - val_char_4_accuracy: 0.3685 - val_char_5_accuracy: 0.5220\n",
            "Epoch 14/60\n",
            "250/250 [==============================] - 3s 12ms/step - loss: 7.2048 - char_1_loss: 0.6731 - char_2_loss: 1.1588 - char_3_loss: 1.8379 - char_4_loss: 2.1401 - char_5_loss: 1.3949 - char_1_accuracy: 0.7573 - char_2_accuracy: 0.6173 - char_3_accuracy: 0.4507 - char_4_accuracy: 0.3692 - char_5_accuracy: 0.5365 - val_loss: 5.5291 - val_char_1_loss: 0.3240 - val_char_2_loss: 0.8697 - val_char_3_loss: 1.5939 - val_char_4_loss: 1.7601 - val_char_5_loss: 0.9815 - val_char_1_accuracy: 0.8930 - val_char_2_accuracy: 0.7640 - val_char_3_accuracy: 0.5880 - val_char_4_accuracy: 0.5350 - val_char_5_accuracy: 0.7065\n",
            "Epoch 15/60\n",
            "250/250 [==============================] - 3s 12ms/step - loss: 6.7139 - char_1_loss: 0.6172 - char_2_loss: 1.0546 - char_3_loss: 1.7298 - char_4_loss: 2.0349 - char_5_loss: 1.2774 - char_1_accuracy: 0.7797 - char_2_accuracy: 0.6530 - char_3_accuracy: 0.4805 - char_4_accuracy: 0.3964 - char_5_accuracy: 0.5723 - val_loss: 5.2192 - val_char_1_loss: 0.2867 - val_char_2_loss: 0.8325 - val_char_3_loss: 1.5033 - val_char_4_loss: 1.6749 - val_char_5_loss: 0.9218 - val_char_1_accuracy: 0.9070 - val_char_2_accuracy: 0.7665 - val_char_3_accuracy: 0.6215 - val_char_4_accuracy: 0.5725 - val_char_5_accuracy: 0.7225\n",
            "Epoch 16/60\n",
            "250/250 [==============================] - 3s 12ms/step - loss: 6.2942 - char_1_loss: 0.5402 - char_2_loss: 0.9670 - char_3_loss: 1.6379 - char_4_loss: 1.9512 - char_5_loss: 1.1980 - char_1_accuracy: 0.8071 - char_2_accuracy: 0.6701 - char_3_accuracy: 0.5013 - char_4_accuracy: 0.4180 - char_5_accuracy: 0.6001 - val_loss: 4.9998 - val_char_1_loss: 0.2875 - val_char_2_loss: 0.7911 - val_char_3_loss: 1.4735 - val_char_4_loss: 1.6044 - val_char_5_loss: 0.8432 - val_char_1_accuracy: 0.9090 - val_char_2_accuracy: 0.7850 - val_char_3_accuracy: 0.6305 - val_char_4_accuracy: 0.5835 - val_char_5_accuracy: 0.7480\n",
            "Epoch 17/60\n",
            "250/250 [==============================] - 3s 13ms/step - loss: 5.9575 - char_1_loss: 0.5037 - char_2_loss: 0.9246 - char_3_loss: 1.5592 - char_4_loss: 1.8648 - char_5_loss: 1.1052 - char_1_accuracy: 0.8199 - char_2_accuracy: 0.6942 - char_3_accuracy: 0.5253 - char_4_accuracy: 0.4457 - char_5_accuracy: 0.6273 - val_loss: 5.6631 - val_char_1_loss: 0.5010 - val_char_2_loss: 0.9640 - val_char_3_loss: 1.5028 - val_char_4_loss: 1.6864 - val_char_5_loss: 1.0087 - val_char_1_accuracy: 0.8230 - val_char_2_accuracy: 0.7195 - val_char_3_accuracy: 0.5970 - val_char_4_accuracy: 0.5230 - val_char_5_accuracy: 0.6700\n",
            "Epoch 18/60\n",
            "250/250 [==============================] - 3s 13ms/step - loss: 5.6712 - char_1_loss: 0.4541 - char_2_loss: 0.8546 - char_3_loss: 1.4956 - char_4_loss: 1.7985 - char_5_loss: 1.0684 - char_1_accuracy: 0.8365 - char_2_accuracy: 0.7109 - char_3_accuracy: 0.5460 - char_4_accuracy: 0.4645 - char_5_accuracy: 0.6382 - val_loss: 4.9901 - val_char_1_loss: 0.2832 - val_char_2_loss: 0.7986 - val_char_3_loss: 1.3722 - val_char_4_loss: 1.5894 - val_char_5_loss: 0.9466 - val_char_1_accuracy: 0.9005 - val_char_2_accuracy: 0.7800 - val_char_3_accuracy: 0.6330 - val_char_4_accuracy: 0.5600 - val_char_5_accuracy: 0.6910\n",
            "Epoch 19/60\n",
            "250/250 [==============================] - 3s 12ms/step - loss: 5.3794 - char_1_loss: 0.4287 - char_2_loss: 0.7916 - char_3_loss: 1.4157 - char_4_loss: 1.7377 - char_5_loss: 1.0057 - char_1_accuracy: 0.8497 - char_2_accuracy: 0.7389 - char_3_accuracy: 0.5748 - char_4_accuracy: 0.4731 - char_5_accuracy: 0.6597 - val_loss: 4.8303 - val_char_1_loss: 0.2681 - val_char_2_loss: 0.8134 - val_char_3_loss: 1.3480 - val_char_4_loss: 1.4656 - val_char_5_loss: 0.9353 - val_char_1_accuracy: 0.9045 - val_char_2_accuracy: 0.7700 - val_char_3_accuracy: 0.6505 - val_char_4_accuracy: 0.6070 - val_char_5_accuracy: 0.6815\n",
            "Epoch 20/60\n",
            "250/250 [==============================] - 3s 13ms/step - loss: 5.1194 - char_1_loss: 0.3953 - char_2_loss: 0.7433 - char_3_loss: 1.3710 - char_4_loss: 1.6781 - char_5_loss: 0.9318 - char_1_accuracy: 0.8587 - char_2_accuracy: 0.7551 - char_3_accuracy: 0.5851 - char_4_accuracy: 0.4963 - char_5_accuracy: 0.6883 - val_loss: 4.3103 - val_char_1_loss: 0.1862 - val_char_2_loss: 0.6836 - val_char_3_loss: 1.2569 - val_char_4_loss: 1.4543 - val_char_5_loss: 0.7293 - val_char_1_accuracy: 0.9365 - val_char_2_accuracy: 0.7990 - val_char_3_accuracy: 0.6710 - val_char_4_accuracy: 0.6265 - val_char_5_accuracy: 0.7780\n",
            "Epoch 21/60\n",
            "250/250 [==============================] - 3s 12ms/step - loss: 4.9309 - char_1_loss: 0.3575 - char_2_loss: 0.7075 - char_3_loss: 1.3126 - char_4_loss: 1.6443 - char_5_loss: 0.9090 - char_1_accuracy: 0.8723 - char_2_accuracy: 0.7610 - char_3_accuracy: 0.6029 - char_4_accuracy: 0.5015 - char_5_accuracy: 0.6908 - val_loss: 4.2351 - val_char_1_loss: 0.1727 - val_char_2_loss: 0.6561 - val_char_3_loss: 1.2296 - val_char_4_loss: 1.3810 - val_char_5_loss: 0.7957 - val_char_1_accuracy: 0.9450 - val_char_2_accuracy: 0.8210 - val_char_3_accuracy: 0.6935 - val_char_4_accuracy: 0.6480 - val_char_5_accuracy: 0.7320\n",
            "Epoch 22/60\n",
            "250/250 [==============================] - 3s 11ms/step - loss: 4.7485 - char_1_loss: 0.3547 - char_2_loss: 0.6667 - char_3_loss: 1.2729 - char_4_loss: 1.5966 - char_5_loss: 0.8577 - char_1_accuracy: 0.8746 - char_2_accuracy: 0.7765 - char_3_accuracy: 0.6093 - char_4_accuracy: 0.5170 - char_5_accuracy: 0.7120 - val_loss: 3.6906 - val_char_1_loss: 0.1547 - val_char_2_loss: 0.5697 - val_char_3_loss: 1.0809 - val_char_4_loss: 1.2430 - val_char_5_loss: 0.6423 - val_char_1_accuracy: 0.9475 - val_char_2_accuracy: 0.8520 - val_char_3_accuracy: 0.7350 - val_char_4_accuracy: 0.6815 - val_char_5_accuracy: 0.8060\n",
            "Epoch 23/60\n",
            "250/250 [==============================] - 3s 11ms/step - loss: 4.4415 - char_1_loss: 0.3232 - char_2_loss: 0.6251 - char_3_loss: 1.2084 - char_4_loss: 1.4964 - char_5_loss: 0.7884 - char_1_accuracy: 0.8865 - char_2_accuracy: 0.7860 - char_3_accuracy: 0.6298 - char_4_accuracy: 0.5399 - char_5_accuracy: 0.7324 - val_loss: 3.6019 - val_char_1_loss: 0.1493 - val_char_2_loss: 0.5905 - val_char_3_loss: 1.1072 - val_char_4_loss: 1.1957 - val_char_5_loss: 0.5592 - val_char_1_accuracy: 0.9515 - val_char_2_accuracy: 0.8395 - val_char_3_accuracy: 0.7360 - val_char_4_accuracy: 0.6965 - val_char_5_accuracy: 0.8215\n",
            "Epoch 24/60\n",
            "250/250 [==============================] - 3s 13ms/step - loss: 4.3620 - char_1_loss: 0.3046 - char_2_loss: 0.5935 - char_3_loss: 1.1989 - char_4_loss: 1.4847 - char_5_loss: 0.7802 - char_1_accuracy: 0.8971 - char_2_accuracy: 0.8002 - char_3_accuracy: 0.6360 - char_4_accuracy: 0.5474 - char_5_accuracy: 0.7344 - val_loss: 3.4549 - val_char_1_loss: 0.1460 - val_char_2_loss: 0.5614 - val_char_3_loss: 1.0472 - val_char_4_loss: 1.1823 - val_char_5_loss: 0.5179 - val_char_1_accuracy: 0.9480 - val_char_2_accuracy: 0.8730 - val_char_3_accuracy: 0.7560 - val_char_4_accuracy: 0.6950 - val_char_5_accuracy: 0.8440\n",
            "Epoch 25/60\n",
            "250/250 [==============================] - 3s 11ms/step - loss: 4.1391 - char_1_loss: 0.2849 - char_2_loss: 0.5601 - char_3_loss: 1.1294 - char_4_loss: 1.4329 - char_5_loss: 0.7319 - char_1_accuracy: 0.9006 - char_2_accuracy: 0.8114 - char_3_accuracy: 0.6575 - char_4_accuracy: 0.5570 - char_5_accuracy: 0.7523 - val_loss: 3.7255 - val_char_1_loss: 0.1966 - val_char_2_loss: 0.6312 - val_char_3_loss: 1.1180 - val_char_4_loss: 1.1942 - val_char_5_loss: 0.5855 - val_char_1_accuracy: 0.9310 - val_char_2_accuracy: 0.8470 - val_char_3_accuracy: 0.7190 - val_char_4_accuracy: 0.6945 - val_char_5_accuracy: 0.8155\n",
            "Epoch 26/60\n",
            "250/250 [==============================] - 3s 10ms/step - loss: 4.0484 - char_1_loss: 0.2689 - char_2_loss: 0.5401 - char_3_loss: 1.1205 - char_4_loss: 1.4053 - char_5_loss: 0.7136 - char_1_accuracy: 0.9051 - char_2_accuracy: 0.8173 - char_3_accuracy: 0.6539 - char_4_accuracy: 0.5642 - char_5_accuracy: 0.7538 - val_loss: 3.1090 - val_char_1_loss: 0.1248 - val_char_2_loss: 0.4981 - val_char_3_loss: 0.9732 - val_char_4_loss: 1.0605 - val_char_5_loss: 0.4523 - val_char_1_accuracy: 0.9555 - val_char_2_accuracy: 0.8875 - val_char_3_accuracy: 0.7765 - val_char_4_accuracy: 0.7365 - val_char_5_accuracy: 0.8590\n",
            "Epoch 27/60\n",
            "250/250 [==============================] - 3s 12ms/step - loss: 3.9202 - char_1_loss: 0.2691 - char_2_loss: 0.5048 - char_3_loss: 1.0789 - char_4_loss: 1.3791 - char_5_loss: 0.6884 - char_1_accuracy: 0.9013 - char_2_accuracy: 0.8307 - char_3_accuracy: 0.6630 - char_4_accuracy: 0.5757 - char_5_accuracy: 0.7599 - val_loss: 3.1436 - val_char_1_loss: 0.1050 - val_char_2_loss: 0.5038 - val_char_3_loss: 1.0065 - val_char_4_loss: 1.0790 - val_char_5_loss: 0.4494 - val_char_1_accuracy: 0.9625 - val_char_2_accuracy: 0.8755 - val_char_3_accuracy: 0.7665 - val_char_4_accuracy: 0.7145 - val_char_5_accuracy: 0.8655\n",
            "Epoch 28/60\n",
            "250/250 [==============================] - 3s 11ms/step - loss: 3.7882 - char_1_loss: 0.2554 - char_2_loss: 0.4860 - char_3_loss: 1.0349 - char_4_loss: 1.3503 - char_5_loss: 0.6615 - char_1_accuracy: 0.9104 - char_2_accuracy: 0.8345 - char_3_accuracy: 0.6820 - char_4_accuracy: 0.5850 - char_5_accuracy: 0.7725 - val_loss: 3.2055 - val_char_1_loss: 0.1255 - val_char_2_loss: 0.5033 - val_char_3_loss: 1.0332 - val_char_4_loss: 1.0870 - val_char_5_loss: 0.4566 - val_char_1_accuracy: 0.9585 - val_char_2_accuracy: 0.8825 - val_char_3_accuracy: 0.7565 - val_char_4_accuracy: 0.7145 - val_char_5_accuracy: 0.8595\n",
            "Epoch 29/60\n",
            "250/250 [==============================] - 3s 11ms/step - loss: 3.7105 - char_1_loss: 0.2494 - char_2_loss: 0.4796 - char_3_loss: 1.0299 - char_4_loss: 1.3143 - char_5_loss: 0.6374 - char_1_accuracy: 0.9136 - char_2_accuracy: 0.8341 - char_3_accuracy: 0.6846 - char_4_accuracy: 0.5954 - char_5_accuracy: 0.7857 - val_loss: 3.2745 - val_char_1_loss: 0.1428 - val_char_2_loss: 0.5177 - val_char_3_loss: 1.0531 - val_char_4_loss: 1.0863 - val_char_5_loss: 0.4745 - val_char_1_accuracy: 0.9530 - val_char_2_accuracy: 0.8795 - val_char_3_accuracy: 0.7470 - val_char_4_accuracy: 0.7145 - val_char_5_accuracy: 0.8525\n",
            "Epoch 30/60\n",
            "250/250 [==============================] - 3s 11ms/step - loss: 3.5172 - char_1_loss: 0.2178 - char_2_loss: 0.4495 - char_3_loss: 0.9635 - char_4_loss: 1.2669 - char_5_loss: 0.6194 - char_1_accuracy: 0.9258 - char_2_accuracy: 0.8479 - char_3_accuracy: 0.7041 - char_4_accuracy: 0.6074 - char_5_accuracy: 0.7874 - val_loss: 2.8875 - val_char_1_loss: 0.1033 - val_char_2_loss: 0.4576 - val_char_3_loss: 0.9378 - val_char_4_loss: 0.9432 - val_char_5_loss: 0.4456 - val_char_1_accuracy: 0.9695 - val_char_2_accuracy: 0.8865 - val_char_3_accuracy: 0.7770 - val_char_4_accuracy: 0.7500 - val_char_5_accuracy: 0.8555\n",
            "Epoch 31/60\n",
            "250/250 [==============================] - 3s 12ms/step - loss: 3.5340 - char_1_loss: 0.2291 - char_2_loss: 0.4550 - char_3_loss: 0.9915 - char_4_loss: 1.2573 - char_5_loss: 0.6011 - char_1_accuracy: 0.9197 - char_2_accuracy: 0.8449 - char_3_accuracy: 0.6901 - char_4_accuracy: 0.6114 - char_5_accuracy: 0.7968 - val_loss: 2.7757 - val_char_1_loss: 0.0828 - val_char_2_loss: 0.4446 - val_char_3_loss: 0.8905 - val_char_4_loss: 0.9695 - val_char_5_loss: 0.3883 - val_char_1_accuracy: 0.9740 - val_char_2_accuracy: 0.8955 - val_char_3_accuracy: 0.7850 - val_char_4_accuracy: 0.7600 - val_char_5_accuracy: 0.8745\n",
            "Epoch 32/60\n",
            "250/250 [==============================] - 3s 12ms/step - loss: 3.4156 - char_1_loss: 0.2062 - char_2_loss: 0.4378 - char_3_loss: 0.9616 - char_4_loss: 1.2388 - char_5_loss: 0.5712 - char_1_accuracy: 0.9265 - char_2_accuracy: 0.8528 - char_3_accuracy: 0.7006 - char_4_accuracy: 0.6080 - char_5_accuracy: 0.8024 - val_loss: 3.0509 - val_char_1_loss: 0.1139 - val_char_2_loss: 0.4969 - val_char_3_loss: 0.9425 - val_char_4_loss: 1.0346 - val_char_5_loss: 0.4630 - val_char_1_accuracy: 0.9615 - val_char_2_accuracy: 0.8780 - val_char_3_accuracy: 0.7730 - val_char_4_accuracy: 0.7195 - val_char_5_accuracy: 0.8500\n",
            "Epoch 33/60\n",
            "250/250 [==============================] - 3s 11ms/step - loss: 3.3144 - char_1_loss: 0.2025 - char_2_loss: 0.4119 - char_3_loss: 0.9183 - char_4_loss: 1.2107 - char_5_loss: 0.5710 - char_1_accuracy: 0.9265 - char_2_accuracy: 0.8589 - char_3_accuracy: 0.7166 - char_4_accuracy: 0.6251 - char_5_accuracy: 0.8011 - val_loss: 2.9749 - val_char_1_loss: 0.1409 - val_char_2_loss: 0.5053 - val_char_3_loss: 0.9190 - val_char_4_loss: 0.9695 - val_char_5_loss: 0.4402 - val_char_1_accuracy: 0.9500 - val_char_2_accuracy: 0.8865 - val_char_3_accuracy: 0.7805 - val_char_4_accuracy: 0.7575 - val_char_5_accuracy: 0.8655\n",
            "Epoch 34/60\n",
            "250/250 [==============================] - 3s 11ms/step - loss: 3.2663 - char_1_loss: 0.2164 - char_2_loss: 0.3990 - char_3_loss: 0.9148 - char_4_loss: 1.1904 - char_5_loss: 0.5456 - char_1_accuracy: 0.9268 - char_2_accuracy: 0.8640 - char_3_accuracy: 0.7186 - char_4_accuracy: 0.6205 - char_5_accuracy: 0.8108 - val_loss: 3.2449 - val_char_1_loss: 0.1454 - val_char_2_loss: 0.5328 - val_char_3_loss: 1.0047 - val_char_4_loss: 1.0209 - val_char_5_loss: 0.5411 - val_char_1_accuracy: 0.9550 - val_char_2_accuracy: 0.8725 - val_char_3_accuracy: 0.7590 - val_char_4_accuracy: 0.7325 - val_char_5_accuracy: 0.8300\n",
            "Epoch 35/60\n",
            "250/250 [==============================] - 3s 11ms/step - loss: 3.1994 - char_1_loss: 0.2082 - char_2_loss: 0.3845 - char_3_loss: 0.8838 - char_4_loss: 1.1739 - char_5_loss: 0.5491 - char_1_accuracy: 0.9261 - char_2_accuracy: 0.8733 - char_3_accuracy: 0.7255 - char_4_accuracy: 0.6319 - char_5_accuracy: 0.8083 - val_loss: 2.6607 - val_char_1_loss: 0.0955 - val_char_2_loss: 0.4502 - val_char_3_loss: 0.8819 - val_char_4_loss: 0.8913 - val_char_5_loss: 0.3418 - val_char_1_accuracy: 0.9630 - val_char_2_accuracy: 0.8980 - val_char_3_accuracy: 0.8000 - val_char_4_accuracy: 0.7730 - val_char_5_accuracy: 0.8980\n",
            "Epoch 36/60\n",
            "250/250 [==============================] - 3s 12ms/step - loss: 3.1142 - char_1_loss: 0.2023 - char_2_loss: 0.3763 - char_3_loss: 0.8561 - char_4_loss: 1.1597 - char_5_loss: 0.5198 - char_1_accuracy: 0.9300 - char_2_accuracy: 0.8668 - char_3_accuracy: 0.7309 - char_4_accuracy: 0.6419 - char_5_accuracy: 0.8200 - val_loss: 2.7941 - val_char_1_loss: 0.1202 - val_char_2_loss: 0.4443 - val_char_3_loss: 0.9159 - val_char_4_loss: 0.8886 - val_char_5_loss: 0.4252 - val_char_1_accuracy: 0.9595 - val_char_2_accuracy: 0.8935 - val_char_3_accuracy: 0.7865 - val_char_4_accuracy: 0.7720 - val_char_5_accuracy: 0.8700\n",
            "Epoch 37/60\n",
            "250/250 [==============================] - 3s 11ms/step - loss: 3.0560 - char_1_loss: 0.1899 - char_2_loss: 0.3767 - char_3_loss: 0.8563 - char_4_loss: 1.1368 - char_5_loss: 0.4963 - char_1_accuracy: 0.9358 - char_2_accuracy: 0.8658 - char_3_accuracy: 0.7322 - char_4_accuracy: 0.6424 - char_5_accuracy: 0.8279 - val_loss: 2.9065 - val_char_1_loss: 0.1135 - val_char_2_loss: 0.5096 - val_char_3_loss: 0.8865 - val_char_4_loss: 0.9582 - val_char_5_loss: 0.4387 - val_char_1_accuracy: 0.9640 - val_char_2_accuracy: 0.8770 - val_char_3_accuracy: 0.7925 - val_char_4_accuracy: 0.7575 - val_char_5_accuracy: 0.8705\n",
            "Epoch 38/60\n",
            "250/250 [==============================] - 3s 11ms/step - loss: 3.0205 - char_1_loss: 0.1808 - char_2_loss: 0.3813 - char_3_loss: 0.8352 - char_4_loss: 1.1072 - char_5_loss: 0.5160 - char_1_accuracy: 0.9360 - char_2_accuracy: 0.8676 - char_3_accuracy: 0.7372 - char_4_accuracy: 0.6470 - char_5_accuracy: 0.8188 - val_loss: 2.7126 - val_char_1_loss: 0.1134 - val_char_2_loss: 0.4349 - val_char_3_loss: 0.8680 - val_char_4_loss: 0.8803 - val_char_5_loss: 0.4162 - val_char_1_accuracy: 0.9620 - val_char_2_accuracy: 0.8930 - val_char_3_accuracy: 0.7985 - val_char_4_accuracy: 0.7715 - val_char_5_accuracy: 0.8715\n",
            "Epoch 39/60\n",
            "250/250 [==============================] - 3s 11ms/step - loss: 2.9183 - char_1_loss: 0.1803 - char_2_loss: 0.3568 - char_3_loss: 0.8108 - char_4_loss: 1.0726 - char_5_loss: 0.4979 - char_1_accuracy: 0.9362 - char_2_accuracy: 0.8754 - char_3_accuracy: 0.7434 - char_4_accuracy: 0.6665 - char_5_accuracy: 0.8256 - val_loss: 2.5790 - val_char_1_loss: 0.0941 - val_char_2_loss: 0.4322 - val_char_3_loss: 0.8375 - val_char_4_loss: 0.9050 - val_char_5_loss: 0.3101 - val_char_1_accuracy: 0.9700 - val_char_2_accuracy: 0.9045 - val_char_3_accuracy: 0.8065 - val_char_4_accuracy: 0.7700 - val_char_5_accuracy: 0.9100\n",
            "Epoch 40/60\n",
            "250/250 [==============================] - 3s 12ms/step - loss: 2.8896 - char_1_loss: 0.1748 - char_2_loss: 0.3448 - char_3_loss: 0.8032 - char_4_loss: 1.0943 - char_5_loss: 0.4725 - char_1_accuracy: 0.9361 - char_2_accuracy: 0.8830 - char_3_accuracy: 0.7519 - char_4_accuracy: 0.6556 - char_5_accuracy: 0.8339 - val_loss: 2.8036 - val_char_1_loss: 0.1321 - val_char_2_loss: 0.5013 - val_char_3_loss: 0.8576 - val_char_4_loss: 0.8744 - val_char_5_loss: 0.4383 - val_char_1_accuracy: 0.9580 - val_char_2_accuracy: 0.8865 - val_char_3_accuracy: 0.8060 - val_char_4_accuracy: 0.7520 - val_char_5_accuracy: 0.8655\n",
            "Epoch 41/60\n",
            "250/250 [==============================] - 3s 11ms/step - loss: 2.8248 - char_1_loss: 0.1890 - char_2_loss: 0.3446 - char_3_loss: 0.7781 - char_4_loss: 1.0518 - char_5_loss: 0.4614 - char_1_accuracy: 0.9312 - char_2_accuracy: 0.8834 - char_3_accuracy: 0.7516 - char_4_accuracy: 0.6656 - char_5_accuracy: 0.8403 - val_loss: 2.5992 - val_char_1_loss: 0.0865 - val_char_2_loss: 0.4099 - val_char_3_loss: 0.8748 - val_char_4_loss: 0.8972 - val_char_5_loss: 0.3309 - val_char_1_accuracy: 0.9735 - val_char_2_accuracy: 0.9110 - val_char_3_accuracy: 0.8085 - val_char_4_accuracy: 0.7650 - val_char_5_accuracy: 0.9090\n",
            "Epoch 42/60\n",
            "250/250 [==============================] - 3s 12ms/step - loss: 2.7875 - char_1_loss: 0.1763 - char_2_loss: 0.3307 - char_3_loss: 0.8016 - char_4_loss: 1.0298 - char_5_loss: 0.4491 - char_1_accuracy: 0.9380 - char_2_accuracy: 0.8826 - char_3_accuracy: 0.7425 - char_4_accuracy: 0.6765 - char_5_accuracy: 0.8460 - val_loss: 2.4465 - val_char_1_loss: 0.0770 - val_char_2_loss: 0.4309 - val_char_3_loss: 0.8341 - val_char_4_loss: 0.8107 - val_char_5_loss: 0.2937 - val_char_1_accuracy: 0.9760 - val_char_2_accuracy: 0.9140 - val_char_3_accuracy: 0.8210 - val_char_4_accuracy: 0.7865 - val_char_5_accuracy: 0.9210\n",
            "Epoch 43/60\n",
            "250/250 [==============================] - 3s 13ms/step - loss: 2.7278 - char_1_loss: 0.1646 - char_2_loss: 0.3133 - char_3_loss: 0.7709 - char_4_loss: 1.0306 - char_5_loss: 0.4485 - char_1_accuracy: 0.9444 - char_2_accuracy: 0.8935 - char_3_accuracy: 0.7576 - char_4_accuracy: 0.6715 - char_5_accuracy: 0.8439 - val_loss: 2.4571 - val_char_1_loss: 0.0911 - val_char_2_loss: 0.3969 - val_char_3_loss: 0.7915 - val_char_4_loss: 0.8547 - val_char_5_loss: 0.3229 - val_char_1_accuracy: 0.9730 - val_char_2_accuracy: 0.9150 - val_char_3_accuracy: 0.8120 - val_char_4_accuracy: 0.7840 - val_char_5_accuracy: 0.9035\n",
            "Epoch 44/60\n",
            "250/250 [==============================] - 3s 12ms/step - loss: 2.6689 - char_1_loss: 0.1663 - char_2_loss: 0.3080 - char_3_loss: 0.7433 - char_4_loss: 1.0199 - char_5_loss: 0.4313 - char_1_accuracy: 0.9413 - char_2_accuracy: 0.8907 - char_3_accuracy: 0.7673 - char_4_accuracy: 0.6730 - char_5_accuracy: 0.8439 - val_loss: 2.5268 - val_char_1_loss: 0.1111 - val_char_2_loss: 0.3899 - val_char_3_loss: 0.8365 - val_char_4_loss: 0.8683 - val_char_5_loss: 0.3211 - val_char_1_accuracy: 0.9665 - val_char_2_accuracy: 0.9100 - val_char_3_accuracy: 0.8120 - val_char_4_accuracy: 0.7735 - val_char_5_accuracy: 0.9105\n",
            "Epoch 45/60\n",
            "250/250 [==============================] - 3s 11ms/step - loss: 2.5921 - char_1_loss: 0.1546 - char_2_loss: 0.3004 - char_3_loss: 0.7394 - char_4_loss: 0.9840 - char_5_loss: 0.4137 - char_1_accuracy: 0.9461 - char_2_accuracy: 0.8980 - char_3_accuracy: 0.7617 - char_4_accuracy: 0.6844 - char_5_accuracy: 0.8540 - val_loss: 2.6246 - val_char_1_loss: 0.1253 - val_char_2_loss: 0.4246 - val_char_3_loss: 0.8693 - val_char_4_loss: 0.8861 - val_char_5_loss: 0.3193 - val_char_1_accuracy: 0.9640 - val_char_2_accuracy: 0.9105 - val_char_3_accuracy: 0.8175 - val_char_4_accuracy: 0.7760 - val_char_5_accuracy: 0.9090\n",
            "Epoch 46/60\n",
            "250/250 [==============================] - 3s 12ms/step - loss: 2.5944 - char_1_loss: 0.1482 - char_2_loss: 0.2990 - char_3_loss: 0.7374 - char_4_loss: 0.9957 - char_5_loss: 0.4141 - char_1_accuracy: 0.9480 - char_2_accuracy: 0.8975 - char_3_accuracy: 0.7642 - char_4_accuracy: 0.6749 - char_5_accuracy: 0.8589 - val_loss: 2.2675 - val_char_1_loss: 0.0791 - val_char_2_loss: 0.3635 - val_char_3_loss: 0.7786 - val_char_4_loss: 0.7859 - val_char_5_loss: 0.2604 - val_char_1_accuracy: 0.9805 - val_char_2_accuracy: 0.9245 - val_char_3_accuracy: 0.8395 - val_char_4_accuracy: 0.8080 - val_char_5_accuracy: 0.9285\n",
            "Epoch 47/60\n",
            "250/250 [==============================] - 3s 14ms/step - loss: 2.6184 - char_1_loss: 0.1651 - char_2_loss: 0.3140 - char_3_loss: 0.7346 - char_4_loss: 0.9851 - char_5_loss: 0.4195 - char_1_accuracy: 0.9449 - char_2_accuracy: 0.8860 - char_3_accuracy: 0.7625 - char_4_accuracy: 0.6846 - char_5_accuracy: 0.8558 - val_loss: 3.1159 - val_char_1_loss: 0.1892 - val_char_2_loss: 0.5414 - val_char_3_loss: 0.9308 - val_char_4_loss: 0.9977 - val_char_5_loss: 0.4567 - val_char_1_accuracy: 0.9415 - val_char_2_accuracy: 0.8775 - val_char_3_accuracy: 0.7780 - val_char_4_accuracy: 0.7320 - val_char_5_accuracy: 0.8725\n",
            "Epoch 48/60\n",
            "250/250 [==============================] - 3s 11ms/step - loss: 2.5081 - char_1_loss: 0.1340 - char_2_loss: 0.2898 - char_3_loss: 0.7115 - char_4_loss: 0.9731 - char_5_loss: 0.3996 - char_1_accuracy: 0.9550 - char_2_accuracy: 0.8964 - char_3_accuracy: 0.7690 - char_4_accuracy: 0.6946 - char_5_accuracy: 0.8612 - val_loss: 2.2476 - val_char_1_loss: 0.0670 - val_char_2_loss: 0.3437 - val_char_3_loss: 0.7836 - val_char_4_loss: 0.7743 - val_char_5_loss: 0.2791 - val_char_1_accuracy: 0.9835 - val_char_2_accuracy: 0.9265 - val_char_3_accuracy: 0.8295 - val_char_4_accuracy: 0.7975 - val_char_5_accuracy: 0.9265\n",
            "Epoch 49/60\n",
            "250/250 [==============================] - 3s 10ms/step - loss: 2.4524 - char_1_loss: 0.1482 - char_2_loss: 0.2838 - char_3_loss: 0.6922 - char_4_loss: 0.9537 - char_5_loss: 0.3744 - char_1_accuracy: 0.9494 - char_2_accuracy: 0.9029 - char_3_accuracy: 0.7741 - char_4_accuracy: 0.6916 - char_5_accuracy: 0.8666 - val_loss: 2.3418 - val_char_1_loss: 0.1027 - val_char_2_loss: 0.4052 - val_char_3_loss: 0.7773 - val_char_4_loss: 0.7635 - val_char_5_loss: 0.2931 - val_char_1_accuracy: 0.9695 - val_char_2_accuracy: 0.9185 - val_char_3_accuracy: 0.8415 - val_char_4_accuracy: 0.8085 - val_char_5_accuracy: 0.9200\n",
            "Epoch 50/60\n",
            "250/250 [==============================] - 3s 10ms/step - loss: 2.4236 - char_1_loss: 0.1405 - char_2_loss: 0.2774 - char_3_loss: 0.6873 - char_4_loss: 0.9378 - char_5_loss: 0.3806 - char_1_accuracy: 0.9538 - char_2_accuracy: 0.9028 - char_3_accuracy: 0.7749 - char_4_accuracy: 0.6999 - char_5_accuracy: 0.8651 - val_loss: 2.4672 - val_char_1_loss: 0.0975 - val_char_2_loss: 0.4365 - val_char_3_loss: 0.8352 - val_char_4_loss: 0.8159 - val_char_5_loss: 0.2821 - val_char_1_accuracy: 0.9760 - val_char_2_accuracy: 0.9145 - val_char_3_accuracy: 0.8135 - val_char_4_accuracy: 0.7820 - val_char_5_accuracy: 0.9200\n",
            "Epoch 51/60\n",
            "250/250 [==============================] - 3s 12ms/step - loss: 2.4466 - char_1_loss: 0.1536 - char_2_loss: 0.2649 - char_3_loss: 0.6855 - char_4_loss: 0.9528 - char_5_loss: 0.3897 - char_1_accuracy: 0.9461 - char_2_accuracy: 0.9081 - char_3_accuracy: 0.7780 - char_4_accuracy: 0.6920 - char_5_accuracy: 0.8668 - val_loss: 2.2002 - val_char_1_loss: 0.0814 - val_char_2_loss: 0.3709 - val_char_3_loss: 0.7436 - val_char_4_loss: 0.7182 - val_char_5_loss: 0.2861 - val_char_1_accuracy: 0.9770 - val_char_2_accuracy: 0.9290 - val_char_3_accuracy: 0.8450 - val_char_4_accuracy: 0.8180 - val_char_5_accuracy: 0.9280\n",
            "Epoch 52/60\n",
            "250/250 [==============================] - 3s 11ms/step - loss: 2.4024 - char_1_loss: 0.1495 - char_2_loss: 0.2691 - char_3_loss: 0.6734 - char_4_loss: 0.9362 - char_5_loss: 0.3743 - char_1_accuracy: 0.9511 - char_2_accuracy: 0.9085 - char_3_accuracy: 0.7804 - char_4_accuracy: 0.6965 - char_5_accuracy: 0.8700 - val_loss: 2.2934 - val_char_1_loss: 0.0755 - val_char_2_loss: 0.3831 - val_char_3_loss: 0.7817 - val_char_4_loss: 0.7617 - val_char_5_loss: 0.2913 - val_char_1_accuracy: 0.9810 - val_char_2_accuracy: 0.9200 - val_char_3_accuracy: 0.8340 - val_char_4_accuracy: 0.8110 - val_char_5_accuracy: 0.9200\n",
            "Epoch 53/60\n",
            "250/250 [==============================] - 3s 12ms/step - loss: 2.3356 - char_1_loss: 0.1497 - char_2_loss: 0.2731 - char_3_loss: 0.6524 - char_4_loss: 0.8895 - char_5_loss: 0.3709 - char_1_accuracy: 0.9471 - char_2_accuracy: 0.9030 - char_3_accuracy: 0.7862 - char_4_accuracy: 0.7078 - char_5_accuracy: 0.8744 - val_loss: 2.2684 - val_char_1_loss: 0.0788 - val_char_2_loss: 0.3402 - val_char_3_loss: 0.7958 - val_char_4_loss: 0.7858 - val_char_5_loss: 0.2678 - val_char_1_accuracy: 0.9775 - val_char_2_accuracy: 0.9290 - val_char_3_accuracy: 0.8320 - val_char_4_accuracy: 0.8075 - val_char_5_accuracy: 0.9365\n",
            "Epoch 54/60\n",
            "250/250 [==============================] - 3s 12ms/step - loss: 2.3446 - char_1_loss: 0.1349 - char_2_loss: 0.2579 - char_3_loss: 0.6695 - char_4_loss: 0.9155 - char_5_loss: 0.3668 - char_1_accuracy: 0.9515 - char_2_accuracy: 0.9106 - char_3_accuracy: 0.7799 - char_4_accuracy: 0.7085 - char_5_accuracy: 0.8727 - val_loss: 2.3120 - val_char_1_loss: 0.0770 - val_char_2_loss: 0.3542 - val_char_3_loss: 0.8133 - val_char_4_loss: 0.8064 - val_char_5_loss: 0.2612 - val_char_1_accuracy: 0.9850 - val_char_2_accuracy: 0.9295 - val_char_3_accuracy: 0.8345 - val_char_4_accuracy: 0.7940 - val_char_5_accuracy: 0.9410\n",
            "Epoch 55/60\n",
            "250/250 [==============================] - 3s 12ms/step - loss: 2.3208 - char_1_loss: 0.1241 - char_2_loss: 0.2658 - char_3_loss: 0.6557 - char_4_loss: 0.9128 - char_5_loss: 0.3624 - char_1_accuracy: 0.9578 - char_2_accuracy: 0.9070 - char_3_accuracy: 0.7845 - char_4_accuracy: 0.7076 - char_5_accuracy: 0.8742 - val_loss: 2.3926 - val_char_1_loss: 0.0755 - val_char_2_loss: 0.3709 - val_char_3_loss: 0.8046 - val_char_4_loss: 0.7743 - val_char_5_loss: 0.3674 - val_char_1_accuracy: 0.9830 - val_char_2_accuracy: 0.9360 - val_char_3_accuracy: 0.8430 - val_char_4_accuracy: 0.8165 - val_char_5_accuracy: 0.8980\n",
            "Epoch 56/60\n",
            "250/250 [==============================] - 3s 12ms/step - loss: 2.2726 - char_1_loss: 0.1249 - char_2_loss: 0.2582 - char_3_loss: 0.6431 - char_4_loss: 0.8892 - char_5_loss: 0.3573 - char_1_accuracy: 0.9560 - char_2_accuracy: 0.9122 - char_3_accuracy: 0.7871 - char_4_accuracy: 0.7130 - char_5_accuracy: 0.8756 - val_loss: 2.1142 - val_char_1_loss: 0.0668 - val_char_2_loss: 0.3593 - val_char_3_loss: 0.7134 - val_char_4_loss: 0.7227 - val_char_5_loss: 0.2520 - val_char_1_accuracy: 0.9850 - val_char_2_accuracy: 0.9295 - val_char_3_accuracy: 0.8510 - val_char_4_accuracy: 0.8255 - val_char_5_accuracy: 0.9385\n",
            "Epoch 57/60\n",
            "250/250 [==============================] - 3s 12ms/step - loss: 2.2696 - char_1_loss: 0.1323 - char_2_loss: 0.2495 - char_3_loss: 0.6441 - char_4_loss: 0.9039 - char_5_loss: 0.3397 - char_1_accuracy: 0.9516 - char_2_accuracy: 0.9116 - char_3_accuracy: 0.7878 - char_4_accuracy: 0.7051 - char_5_accuracy: 0.8815 - val_loss: 2.4206 - val_char_1_loss: 0.0870 - val_char_2_loss: 0.4380 - val_char_3_loss: 0.7949 - val_char_4_loss: 0.8333 - val_char_5_loss: 0.2674 - val_char_1_accuracy: 0.9785 - val_char_2_accuracy: 0.9150 - val_char_3_accuracy: 0.8395 - val_char_4_accuracy: 0.7840 - val_char_5_accuracy: 0.9325\n",
            "Epoch 58/60\n",
            "250/250 [==============================] - 3s 11ms/step - loss: 2.2074 - char_1_loss: 0.1247 - char_2_loss: 0.2448 - char_3_loss: 0.6192 - char_4_loss: 0.8729 - char_5_loss: 0.3458 - char_1_accuracy: 0.9539 - char_2_accuracy: 0.9143 - char_3_accuracy: 0.7961 - char_4_accuracy: 0.7151 - char_5_accuracy: 0.8777 - val_loss: 2.4000 - val_char_1_loss: 0.1094 - val_char_2_loss: 0.4223 - val_char_3_loss: 0.7560 - val_char_4_loss: 0.8386 - val_char_5_loss: 0.2736 - val_char_1_accuracy: 0.9755 - val_char_2_accuracy: 0.9230 - val_char_3_accuracy: 0.8435 - val_char_4_accuracy: 0.7835 - val_char_5_accuracy: 0.9355\n",
            "Epoch 59/60\n",
            "250/250 [==============================] - 3s 13ms/step - loss: 2.1495 - char_1_loss: 0.1228 - char_2_loss: 0.2275 - char_3_loss: 0.6052 - char_4_loss: 0.8628 - char_5_loss: 0.3311 - char_1_accuracy: 0.9589 - char_2_accuracy: 0.9196 - char_3_accuracy: 0.8021 - char_4_accuracy: 0.7191 - char_5_accuracy: 0.8825 - val_loss: 2.7074 - val_char_1_loss: 0.1427 - val_char_2_loss: 0.4248 - val_char_3_loss: 0.9500 - val_char_4_loss: 0.9232 - val_char_5_loss: 0.2666 - val_char_1_accuracy: 0.9660 - val_char_2_accuracy: 0.9155 - val_char_3_accuracy: 0.8045 - val_char_4_accuracy: 0.7740 - val_char_5_accuracy: 0.9230\n",
            "Epoch 60/60\n",
            "250/250 [==============================] - 3s 12ms/step - loss: 2.1732 - char_1_loss: 0.1127 - char_2_loss: 0.2387 - char_3_loss: 0.6200 - char_4_loss: 0.8666 - char_5_loss: 0.3353 - char_1_accuracy: 0.9614 - char_2_accuracy: 0.9154 - char_3_accuracy: 0.8005 - char_4_accuracy: 0.7209 - char_5_accuracy: 0.8810 - val_loss: 2.0447 - val_char_1_loss: 0.0659 - val_char_2_loss: 0.3265 - val_char_3_loss: 0.7311 - val_char_4_loss: 0.6994 - val_char_5_loss: 0.2219 - val_char_1_accuracy: 0.9830 - val_char_2_accuracy: 0.9430 - val_char_3_accuracy: 0.8515 - val_char_4_accuracy: 0.8255 - val_char_5_accuracy: 0.9525\n"
          ]
        }
      ]
    },
    {
      "cell_type": "code",
      "source": [
        "score = model.evaluate(X_test,[y_test[0], y_test[1], y_test[2], y_test[3], y_test[4]],verbose=1)\n",
        "\n",
        "print('Test Loss and accuracy:', score)"
      ],
      "metadata": {
        "colab": {
          "base_uri": "https://localhost:8080/"
        },
        "id": "YyCBswH-emLc",
        "outputId": "b5b2a9cf-72b3-4b4e-bc6b-7ae28facb6d8"
      },
      "execution_count": 10,
      "outputs": [
        {
          "output_type": "stream",
          "name": "stdout",
          "text": [
            "286/286 [==============================] - 3s 11ms/step - loss: 0.8949 - char_1_loss: 0.0209 - char_2_loss: 0.1023 - char_3_loss: 0.3132 - char_4_loss: 0.3679 - char_5_loss: 0.0906 - char_1_accuracy: 0.9948 - char_2_accuracy: 0.9791 - char_3_accuracy: 0.9299 - char_4_accuracy: 0.9142 - char_5_accuracy: 0.9800\n",
            "Test Loss and accuracy: [0.8948947191238403, 0.02087804116308689, 0.10228689014911652, 0.31320276856422424, 0.3679174780845642, 0.09060949832201004, 0.9947506785392761, 0.9791119694709778, 0.9298993945121765, 0.9141513705253601, 0.9799869060516357]\n"
          ]
        }
      ]
    },
    {
      "cell_type": "code",
      "source": [
        "plt.figure(figsize=(15,8))\n",
        "plt.plot(history.history['loss'])\n",
        "plt.plot(history.history['val_loss'])\n",
        "plt.title('model loss')\n",
        "plt.ylabel('loss')\n",
        "plt.xlabel('epoch')\n",
        "plt.legend(['train', 'test'], loc='upper left')\n",
        "plt.show()"
      ],
      "metadata": {
        "colab": {
          "base_uri": "https://localhost:8080/",
          "height": 513
        },
        "id": "TsetrFaueoyS",
        "outputId": "feff6d4e-0295-449b-845f-2ce9d17e25e0"
      },
      "execution_count": 11,
      "outputs": [
        {
          "output_type": "display_data",
          "data": {
            "text/plain": [
              "<Figure size 1080x576 with 1 Axes>"
            ],
            "image/png": "[encoded data removed]"
          },
          "metadata": {
            "needs_background": "light"
          }
        }
      ]
    },
    {
      "cell_type": "code",
      "source": [
        "def makePredict(captcha):\n",
        "    captcha = np.reshape(captcha , (30,120))\n",
        "    result = model.predict(np.reshape(captcha, (1,30,212000,1)))\n",
        "    result = np.reshape(result ,(5,62))\n",
        "    indexes =[]\n",
        "    for i in result:\n",
        "        indexes.append(np.argmax(i))\n",
        "        \n",
        "    label=''\n",
        "    for i in indexes:\n",
        "        label += symbols[i]\n",
        "        \n",
        "    return label"
      ],
      "metadata": {
        "id": "JYqy_bLOer9i"
      },
      "execution_count": 14,
      "outputs": []
    },
    {
      "cell_type": "code",
      "source": [
        "def predict(filepath):\n",
        "    img = cv2.imread(filepath, cv2.IMREAD_GRAYSCALE)\n",
        "    if img is not None:\n",
        "        img = img / 255.0\n",
        "    else:\n",
        "        print(\"Not detected\")\n",
        "        return '100000'\n",
        "    res = np.array(model.predict(img[np.newaxis, :, :, np.newaxis]))\n",
        "    ans = np.reshape(res, (5, 62))#-------------------------------------------------------\n",
        "    l_ind = []\n",
        "    probs = []\n",
        "    for a in ans:\n",
        "        l_ind.append(np.argmax(a))\n",
        "        #probs.append(np.max(a))\n",
        "\n",
        "    capt = ''\n",
        "    for l in l_ind:\n",
        "        capt += symbols[l]\n",
        "    return capt#, sum(probs) / 5"
      ],
      "metadata": {
        "id": "QIFzB7MceztL"
      },
      "execution_count": 18,
      "outputs": []
    },
    {
      "cell_type": "code",
      "source": [
        "\n",
        "while(1):\n",
        "    str_path = input(\"path:\")\n",
        "    if str_path == 'qqq':\n",
        "        break;\n",
        "    str=predict(str_path)\n",
        "    if str != '100000' :\n",
        "        print(str)"
      ],
      "metadata": {
        "colab": {
          "base_uri": "https://localhost:8080/"
        },
        "id": "rz4KXgz4oyrV",
        "outputId": "fac5d7c4-1779-45a9-eb2f-822f7f4c4eb3"
      },
      "execution_count": 20,
      "outputs": [
        {
          "name": "stdout",
          "output_type": "stream",
          "text": [
            "path:/content/ai_captcha/test/02rZL.png\n",
            "1/1 [==============================] - 0s 264ms/step\n",
            "0xrZL\n",
            "path:/content/ai_captcha/test/02xdK.png\n",
            "1/1 [==============================] - 0s 18ms/step\n",
            "0x2xd\n",
            "path:/content/ai_captcha/test/03j4u.png\n",
            "1/1 [==============================] - 0s 17ms/step\n",
            "03e4u\n",
            "path:/content/ai_captcha/test/06S3S.png\n",
            "1/1 [==============================] - 0s 18ms/step\n",
            "06S3g\n",
            "path:/content/ai_captcha/test/08Hvu.png\n",
            "1/1 [==============================] - 0s 17ms/step\n",
            "07hvu\n",
            "path:/content/ai_captcha/test/1ReHp.png\n",
            "1/1 [==============================] - 0s 21ms/step\n",
            "1ReCH\n",
            "path:/content/ai_captcha/test/2wYUH.png\n",
            "1/1 [==============================] - 0s 18ms/step\n",
            "xmmYU\n",
            "path:/content/ai_captcha/test/394U7.png\n",
            "1/1 [==============================] - 0s 21ms/step\n",
            "c94U7\n",
            "path:/content/ai_captcha/test/38yOJ.png\n",
            "1/1 [==============================] - 0s 18ms/step\n",
            "38yOJ\n",
            "path:/content/ai_captcha/test/394U7.png\n",
            "1/1 [==============================] - 0s 19ms/step\n",
            "c94U7\n",
            "path:qqq\n"
          ]
        }
      ]
    },
    {
      "cell_type": "code",
      "source": [
        "model.save('model_v4_1.h5')"
      ],
      "metadata": {
        "id": "umATl4nDq-18"
      },
      "execution_count": 21,
      "outputs": []
    }
  ]
}