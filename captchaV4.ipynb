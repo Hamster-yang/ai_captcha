{
  "nbformat": 4,
  "nbformat_minor": 0,
  "metadata": {
    "colab": {
      "provenance": []
    },
    "kernelspec": {
      "name": "python3",
      "display_name": "Python 3"
    },
    "language_info": {
      "name": "python"
    },
    "accelerator": "GPU",
    "gpuClass": "standard"
  },
  "cells": [
    {
      "cell_type": "code",
      "execution_count": 124,
      "metadata": {
        "colab": {
          "base_uri": "https://localhost:8080/"
        },
        "id": "PQYoX15yV4bp",
        "outputId": "17959b19-2442-44d5-9bf8-6be03949be12"
      },
      "outputs": [
        {
          "output_type": "stream",
          "name": "stdout",
          "text": [
            "\r0% [Working]\r            \rHit:1 http://security.ubuntu.com/ubuntu bionic-security InRelease\n",
            "\r0% [Waiting for headers] [Connecting to cloud.r-project.org] [Connected to deve\r                                                                               \rHit:2 http://archive.ubuntu.com/ubuntu bionic InRelease\n",
            "\r                                                                               \rHit:3 http://archive.ubuntu.com/ubuntu bionic-updates InRelease\n",
            "\r                                                                               \rHit:4 http://ppa.launchpad.net/c2d4u.team/c2d4u4.0+/ubuntu bionic InRelease\n",
            "\r0% [Waiting for headers] [Connecting to cloud.r-project.org] [Connected to deve\r0% [1 InRelease gpgv 88.7 kB] [Waiting for headers] [Connecting to cloud.r-proj\r                                                                               \rHit:5 http://archive.ubuntu.com/ubuntu bionic-backports InRelease\n",
            "\r0% [1 InRelease gpgv 88.7 kB] [Connecting to cloud.r-project.org] [Connected to\r                                                                               \rHit:6 http://ppa.launchpad.net/cran/libgit2/ubuntu bionic InRelease\n",
            "\r0% [1 InRelease gpgv 88.7 kB] [Connecting to cloud.r-project.org] [Waiting for \r                                                                               \rHit:7 http://ppa.launchpad.net/deadsnakes/ppa/ubuntu bionic InRelease\n",
            "\r0% [1 InRelease gpgv 88.7 kB] [Connecting to cloud.r-project.org] [Waiting for \r                                                                               \rHit:8 http://ppa.launchpad.net/graphics-drivers/ppa/ubuntu bionic InRelease\n",
            "Hit:9 https://cloud.r-project.org/bin/linux/ubuntu bionic-cran40/ InRelease\n",
            "Ign:10 https://developer.download.nvidia.com/compute/machine-learning/repos/ubuntu1804/x86_64  InRelease\n",
            "Hit:11 https://developer.download.nvidia.com/compute/cuda/repos/ubuntu1804/x86_64  InRelease\n",
            "Hit:12 https://developer.download.nvidia.com/compute/machine-learning/repos/ubuntu1804/x86_64  Release\n",
            "Reading package lists... Done\n",
            "Reading package lists... Done\n",
            "Building dependency tree       \n",
            "Reading state information... Done\n",
            "git is already the newest version (1:2.17.1-1ubuntu0.13).\n",
            "The following package was automatically installed and is no longer required:\n",
            "  libnvidia-common-460\n",
            "Use 'apt autoremove' to remove it.\n",
            "0 upgraded, 0 newly installed, 0 to remove and 20 not upgraded.\n"
          ]
        }
      ],
      "source": [
        "!apt-get update\n",
        "!apt-get install git"
      ]
    },
    {
      "cell_type": "code",
      "source": [
        "!git clone https://github.com/Hamster-yang/ai_captcha.git"
      ],
      "metadata": {
        "colab": {
          "base_uri": "https://localhost:8080/"
        },
        "id": "o_oTweFFV5kg",
        "outputId": "d31893d5-59b9-4e0f-823c-ee0b96549a8a"
      },
      "execution_count": 125,
      "outputs": [
        {
          "output_type": "stream",
          "name": "stdout",
          "text": [
            "fatal: destination path 'ai_captcha' already exists and is not an empty directory.\n"
          ]
        }
      ]
    },
    {
      "cell_type": "code",
      "source": [
        "import numpy as np\n",
        "import pandas as pd\n",
        "from sklearn.model_selection import train_test_split\n",
        "import cv2\n",
        "import matplotlib.pyplot as plt\n",
        "import random\n",
        "\n",
        "from tensorflow.keras.layers import Conv2D, MaxPooling2D, Dropout, Flatten, Dense, Layer, BatchNormalization \n",
        "from tensorflow.keras.optimizers import Adam\n",
        "from tensorflow.keras import Model, Input \n",
        "from tensorflow.keras.callbacks import EarlyStopping\n",
        "\n",
        "import plotly.express as px\n",
        "import plotly.graph_objects as go\n",
        "\n",
        "import os"
      ],
      "metadata": {
        "id": "zkGK7f-leZr1"
      },
      "execution_count": 132,
      "outputs": []
    },
    {
      "cell_type": "code",
      "source": [
        "import string\n",
        "captcha_list = []\n",
        "img_shape = (30, 120, 1)\n",
        "symbols = string.ascii_lowercase+ string.ascii_uppercase + \"0123456789\"\n",
        "\n",
        "len_symbols = len(symbols) # the number of symbols\n",
        "nSamples = len(os.listdir('/content/ai_captcha/train')) # the number of samples 'captchas'\n",
        "len_captcha = 5\n",
        "\n",
        "X = np.zeros((nSamples, 30, 120, 1)) # 1070 * 50 * 200\n",
        "y = np.zeros((5, nSamples, len_symbols)) # 5 * 1070 * 36\n",
        "\n",
        "nSamples_test = len(os.listdir('/content/ai_captcha/test')) # the number of samples 'captchas'\n",
        "\n",
        "X_test1 = np.zeros((nSamples_test, 30, 120, 1)) # 1070 * 50 * 200\n",
        "y_test1 = np.zeros((5, nSamples_test, len_symbols)) # 5 * 1070 * 36"
      ],
      "metadata": {
        "id": "ruSouMnneaJM"
      },
      "execution_count": 133,
      "outputs": []
    },
    {
      "cell_type": "code",
      "source": [
        "symbols"
      ],
      "metadata": {
        "colab": {
          "base_uri": "https://localhost:8080/",
          "height": 35
        },
        "id": "aV_0mmxUfTHO",
        "outputId": "f7851688-80ce-4d0a-dc4e-2868f5e3f1d3"
      },
      "execution_count": null,
      "outputs": [
        {
          "output_type": "execute_result",
          "data": {
            "text/plain": [
              "'abcdefghijklmnopqrstuvwxyzABCDEFGHIJKLMNOPQRSTUVWXYZ0123456789'"
            ],
            "application/vnd.google.colaboratory.intrinsic+json": {
              "type": "string"
            }
          },
          "metadata": {},
          "execution_count": 62
        }
      ]
    },
    {
      "cell_type": "code",
      "source": [
        "for i, captcha in enumerate(os.listdir('/content/ai_captcha/train')):\n",
        "    captcha_code = captcha.split(\".\")[0]\n",
        "    captcha_list.append(captcha_code)\n",
        "    captcha_cv2 = cv2.imread(os.path.join('/content/ai_captcha/train', captcha), cv2.IMREAD_GRAYSCALE)\n",
        "\n",
        "        \n",
        "    captcha_cv2=cv2.resize(captcha_cv2,[300,100])\n",
        "    kernel = np.ones((3,3), np.uint8)\n",
        "    captcha_cv2=cv2.dilate(captcha_cv2,kernel,iterations = 1)\n",
        "    ret,captcha_cv2=cv2.threshold(captcha_cv2,195,255,cv2.THRESH_BINARY)\n",
        "\n",
        "    captcha_cv2=cv2.resize(captcha_cv2,[120,30])\n",
        "    \n",
        "    captcha_cv2 = captcha_cv2 / 255.0\n",
        "    captcha_cv2 = np.reshape(captcha_cv2, img_shape)\n",
        "    targs = np.zeros((len_captcha, len_symbols))\n",
        "    \n",
        "    for a, b in enumerate(captcha_code):\n",
        "        targs[a, symbols.index(b)] = 1\n",
        "    \n",
        "    X[i] = captcha_cv2\n",
        "    y[:, i] = targs"
      ],
      "metadata": {
        "id": "KYO4ZkXjec1-"
      },
      "execution_count": 134,
      "outputs": []
    },
    {
      "cell_type": "code",
      "source": [
        "for i, captcha in enumerate(os.listdir('/content/ai_captcha/test')):\n",
        "    captcha_code = captcha.split(\".\")[0]\n",
        "    captcha_list.append(captcha_code)\n",
        "    captcha_cv2 = cv2.imread(os.path.join('/content/ai_captcha/test', captcha), cv2.IMREAD_GRAYSCALE)\n",
        "\n",
        "        \n",
        "    captcha_cv2=cv2.resize(captcha_cv2,[300,100])\n",
        "    kernel = np.ones((3,3), np.uint8)\n",
        "    captcha_cv2=cv2.dilate(captcha_cv2,kernel,iterations = 1)\n",
        "    ret,captcha_cv2=cv2.threshold(captcha_cv2,195,255,cv2.THRESH_BINARY)\n",
        "\n",
        "    captcha_cv2=cv2.resize(captcha_cv2,[120,30])\n",
        "    \n",
        "    captcha_cv2 = captcha_cv2 / 255.0\n",
        "    captcha_cv2 = np.reshape(captcha_cv2, img_shape)\n",
        "    targs = np.zeros((len_captcha, len_symbols))\n",
        "    \n",
        "    for a, b in enumerate(captcha_code):\n",
        "        targs[a, symbols.index(b)] = 1\n",
        "    \n",
        "    X_test1[i] = captcha_cv2\n",
        "    y_test1[:, i] = targs"
      ],
      "metadata": {
        "id": "H9Nwgpo9lfWy"
      },
      "execution_count": 135,
      "outputs": []
    },
    {
      "cell_type": "code",
      "source": [
        "print(\"shape of X:\", X.shape)\n",
        "print(\"shape of y:\", y.shape)\n",
        "print(\"shape of X_test1:\", X_test1.shape)\n",
        "print(\"shape of y_test1:\", y_test1.shape)"
      ],
      "metadata": {
        "colab": {
          "base_uri": "https://localhost:8080/"
        },
        "id": "jY1atx4ieedM",
        "outputId": "d357114e-4232-46b7-fd15-8ed47db248e8"
      },
      "execution_count": 137,
      "outputs": [
        {
          "output_type": "stream",
          "name": "stdout",
          "text": [
            "shape of X: (10000, 30, 120, 1)\n",
            "shape of y: (5, 10000, 62)\n",
            "shape of X_test1: (20000, 30, 120, 1)\n",
            "shape of y_test1: (5, 20000, 62)\n"
          ]
        }
      ]
    },
    {
      "cell_type": "code",
      "source": [
        "X_train = X[:10000] \n",
        "y_train = y[:, :10000]\n",
        "X_test = X_test1[:20000]\n",
        "y_test = y_test1[:, :20000]"
      ],
      "metadata": {
        "id": "SsSt4AeZfuAi"
      },
      "execution_count": 138,
      "outputs": []
    },
    {
      "cell_type": "code",
      "source": [
        "captcha = Input(shape=(30,120,1))\n",
        "x = Conv2D(16, (3,3),padding='same',activation='relu')(captcha)\n",
        "x = MaxPooling2D((2,2) , padding='same')(x)\n",
        "x = Conv2D(32, (3,3),padding='same',activation='relu')(x)\n",
        "x = MaxPooling2D((2,2) , padding='same')(x)\n",
        "x = Conv2D(32, (3,3),padding='same',activation='relu')(x)\n",
        "x = MaxPooling2D((2,2) , padding='same')(x)\n",
        "x = Conv2D(32, (3,3),padding='same',activation='relu')(x)\n",
        "x = MaxPooling2D((2,2) , padding='same')(x)\n",
        "x = BatchNormalization()(x)\n",
        "\n",
        "\n",
        "flatOutput = Flatten()(x)\n",
        "\n",
        "dense1 = Dense(64 , activation='relu')(flatOutput)\n",
        "dropout1= Dropout(0.5)(dense1)\n",
        "output1 = Dense(len_symbols , activation='sigmoid' , name='char_1')(dropout1)\n",
        "\n",
        "dense2 = Dense(64 , activation='relu')(flatOutput)\n",
        "dropout2= Dropout(0.5)(dense2)\n",
        "output2 = Dense(len_symbols , activation='sigmoid' , name='char_2')(dropout2)\n",
        "    \n",
        "dense3 = Dense(64 , activation='relu')(flatOutput)\n",
        "dropout3= Dropout(0.5)(dense3)\n",
        "output3 = Dense(len_symbols , activation='sigmoid' , name='char_3')(dropout3)\n",
        "    \n",
        "dense4 = Dense(64 , activation='relu')(flatOutput)\n",
        "dropout4= Dropout(0.5)(dense4)\n",
        "output4 = Dense(len_symbols , activation='sigmoid' , name='char_4')(dropout4)\n",
        "    \n",
        "dense5 = Dense(64 , activation='relu')(flatOutput)\n",
        "dropout5= Dropout(0.5)(dense5)\n",
        "output5 = Dense(len_symbols , activation='sigmoid' , name='char_5')(dropout5)\n",
        "    \n",
        "model = Model(inputs = captcha , outputs=[output1 , output2 , output3 , output4 , output5])"
      ],
      "metadata": {
        "id": "rRWpSJ-Zeh9f"
      },
      "execution_count": 139,
      "outputs": []
    },
    {
      "cell_type": "code",
      "source": [
        "model.compile(loss='categorical_crossentropy', optimizer='adam', metrics=[\"accuracy\"])\n",
        "earlystopping = EarlyStopping(monitor =\"val_loss\",  \n",
        "                             mode =\"min\", patience = 5,  \n",
        "                             restore_best_weights = True) \n",
        "\n",
        "history = model.fit(X_train, [y_train[0], y_train[1], y_train[2], y_train[3], y_train[4]], batch_size=16, epochs=240, verbose=1, validation_split=0.2, )#callbacks =[earlystopping])"
      ],
      "metadata": {
        "colab": {
          "base_uri": "https://localhost:8080/"
        },
        "id": "2TvxVqmJekqD",
        "outputId": "c18cd184-2595-4f88-d2f0-bcd727d8aeb1"
      },
      "execution_count": null,
      "outputs": [
        {
          "output_type": "stream",
          "name": "stdout",
          "text": [
            "Epoch 1/240\n",
            "500/500 [==============================] - 7s 10ms/step - loss: 20.5864 - char_1_loss: 4.1232 - char_2_loss: 4.1108 - char_3_loss: 4.1171 - char_4_loss: 4.1177 - char_5_loss: 4.1176 - char_1_accuracy: 0.0213 - char_2_accuracy: 0.0289 - char_3_accuracy: 0.0216 - char_4_accuracy: 0.0268 - char_5_accuracy: 0.0235 - val_loss: 20.3830 - val_char_1_loss: 4.0762 - val_char_2_loss: 4.0543 - val_char_3_loss: 4.0845 - val_char_4_loss: 4.0819 - val_char_5_loss: 4.0861 - val_char_1_accuracy: 0.0325 - val_char_2_accuracy: 0.0365 - val_char_3_accuracy: 0.0365 - val_char_4_accuracy: 0.0325 - val_char_5_accuracy: 0.0320\n",
            "Epoch 2/240\n",
            "500/500 [==============================] - 5s 9ms/step - loss: 19.3650 - char_1_loss: 3.7517 - char_2_loss: 3.8249 - char_3_loss: 3.9079 - char_4_loss: 3.9755 - char_5_loss: 3.9049 - char_1_accuracy: 0.0519 - char_2_accuracy: 0.0535 - char_3_accuracy: 0.0424 - char_4_accuracy: 0.0439 - char_5_accuracy: 0.0417 - val_loss: 18.2209 - val_char_1_loss: 3.4070 - val_char_2_loss: 3.5729 - val_char_3_loss: 3.6935 - val_char_4_loss: 3.8160 - val_char_5_loss: 3.7316 - val_char_1_accuracy: 0.0675 - val_char_2_accuracy: 0.0650 - val_char_3_accuracy: 0.0635 - val_char_4_accuracy: 0.0505 - val_char_5_accuracy: 0.0495\n",
            "Epoch 3/240\n",
            "500/500 [==============================] - 4s 9ms/step - loss: 17.2654 - char_1_loss: 3.0835 - char_2_loss: 3.3548 - char_3_loss: 3.5745 - char_4_loss: 3.7171 - char_5_loss: 3.5355 - char_1_accuracy: 0.1400 - char_2_accuracy: 0.1124 - char_3_accuracy: 0.0817 - char_4_accuracy: 0.0761 - char_5_accuracy: 0.0809 - val_loss: 15.7105 - val_char_1_loss: 2.6056 - val_char_2_loss: 2.9991 - val_char_3_loss: 3.3226 - val_char_4_loss: 3.5605 - val_char_5_loss: 3.2227 - val_char_1_accuracy: 0.2155 - val_char_2_accuracy: 0.1555 - val_char_3_accuracy: 0.1255 - val_char_4_accuracy: 0.0935 - val_char_5_accuracy: 0.1415\n",
            "Epoch 4/240\n",
            "500/500 [==============================] - 4s 9ms/step - loss: 14.3306 - char_1_loss: 2.2487 - char_2_loss: 2.6840 - char_3_loss: 3.0963 - char_4_loss: 3.3671 - char_5_loss: 2.9345 - char_1_accuracy: 0.2968 - char_2_accuracy: 0.2150 - char_3_accuracy: 0.1616 - char_4_accuracy: 0.1230 - char_5_accuracy: 0.1734 - val_loss: 11.9224 - val_char_1_loss: 1.5662 - val_char_2_loss: 2.2181 - val_char_3_loss: 2.6813 - val_char_4_loss: 3.0453 - val_char_5_loss: 2.4115 - val_char_1_accuracy: 0.5025 - val_char_2_accuracy: 0.3225 - val_char_3_accuracy: 0.2835 - val_char_4_accuracy: 0.1785 - val_char_5_accuracy: 0.2920\n",
            "Epoch 5/240\n",
            "500/500 [==============================] - 4s 9ms/step - loss: 12.1476 - char_1_loss: 1.7151 - char_2_loss: 2.2361 - char_3_loss: 2.7439 - char_4_loss: 3.0137 - char_5_loss: 2.4388 - char_1_accuracy: 0.4330 - char_2_accuracy: 0.3205 - char_3_accuracy: 0.2315 - char_4_accuracy: 0.1850 - char_5_accuracy: 0.2701 - val_loss: 10.4617 - val_char_1_loss: 1.3391 - val_char_2_loss: 1.9034 - val_char_3_loss: 2.4920 - val_char_4_loss: 2.7191 - val_char_5_loss: 2.0081 - val_char_1_accuracy: 0.5405 - val_char_2_accuracy: 0.4290 - val_char_3_accuracy: 0.3145 - val_char_4_accuracy: 0.2650 - val_char_5_accuracy: 0.3870\n",
            "Epoch 6/240\n",
            "500/500 [==============================] - 5s 9ms/step - loss: 10.4897 - char_1_loss: 1.3667 - char_2_loss: 1.8862 - char_3_loss: 2.4365 - char_4_loss: 2.7180 - char_5_loss: 2.0822 - char_1_accuracy: 0.5465 - char_2_accuracy: 0.4149 - char_3_accuracy: 0.3076 - char_4_accuracy: 0.2438 - char_5_accuracy: 0.3564 - val_loss: 8.5414 - val_char_1_loss: 0.9386 - val_char_2_loss: 1.5024 - val_char_3_loss: 2.1390 - val_char_4_loss: 2.3945 - val_char_5_loss: 1.5669 - val_char_1_accuracy: 0.7000 - val_char_2_accuracy: 0.5805 - val_char_3_accuracy: 0.4395 - val_char_4_accuracy: 0.3715 - val_char_5_accuracy: 0.5565\n",
            "Epoch 7/240\n",
            "500/500 [==============================] - 4s 9ms/step - loss: 9.2734 - char_1_loss: 1.1519 - char_2_loss: 1.6117 - char_3_loss: 2.2126 - char_4_loss: 2.4960 - char_5_loss: 1.8013 - char_1_accuracy: 0.6176 - char_2_accuracy: 0.4871 - char_3_accuracy: 0.3699 - char_4_accuracy: 0.2935 - char_5_accuracy: 0.4302 - val_loss: 7.4894 - val_char_1_loss: 0.7423 - val_char_2_loss: 1.2789 - val_char_3_loss: 1.9409 - val_char_4_loss: 2.1936 - val_char_5_loss: 1.3337 - val_char_1_accuracy: 0.7675 - val_char_2_accuracy: 0.6525 - val_char_3_accuracy: 0.4915 - val_char_4_accuracy: 0.4005 - val_char_5_accuracy: 0.6130\n",
            "Epoch 8/240\n",
            "500/500 [==============================] - 5s 10ms/step - loss: 8.3019 - char_1_loss: 0.9682 - char_2_loss: 1.4224 - char_3_loss: 2.0054 - char_4_loss: 2.3189 - char_5_loss: 1.5870 - char_1_accuracy: 0.6824 - char_2_accuracy: 0.5509 - char_3_accuracy: 0.4216 - char_4_accuracy: 0.3318 - char_5_accuracy: 0.5061 - val_loss: 6.5715 - val_char_1_loss: 0.6307 - val_char_2_loss: 1.0937 - val_char_3_loss: 1.7268 - val_char_4_loss: 1.9685 - val_char_5_loss: 1.1518 - val_char_1_accuracy: 0.7990 - val_char_2_accuracy: 0.6910 - val_char_3_accuracy: 0.5600 - val_char_4_accuracy: 0.4600 - val_char_5_accuracy: 0.6650\n",
            "Epoch 9/240\n",
            "500/500 [==============================] - 5s 9ms/step - loss: 7.4893 - char_1_loss: 0.8369 - char_2_loss: 1.2663 - char_3_loss: 1.8292 - char_4_loss: 2.1544 - char_5_loss: 1.4024 - char_1_accuracy: 0.7245 - char_2_accuracy: 0.6018 - char_3_accuracy: 0.4734 - char_4_accuracy: 0.3765 - char_5_accuracy: 0.5445 - val_loss: 5.9952 - val_char_1_loss: 0.5316 - val_char_2_loss: 1.0071 - val_char_3_loss: 1.5982 - val_char_4_loss: 1.8411 - val_char_5_loss: 1.0172 - val_char_1_accuracy: 0.8410 - val_char_2_accuracy: 0.7140 - val_char_3_accuracy: 0.6005 - val_char_4_accuracy: 0.5080 - val_char_5_accuracy: 0.7035\n",
            "Epoch 10/240\n",
            "500/500 [==============================] - 4s 9ms/step - loss: 6.8994 - char_1_loss: 0.7584 - char_2_loss: 1.1555 - char_3_loss: 1.7038 - char_4_loss: 2.0035 - char_5_loss: 1.2782 - char_1_accuracy: 0.7439 - char_2_accuracy: 0.6329 - char_3_accuracy: 0.5030 - char_4_accuracy: 0.4214 - char_5_accuracy: 0.5909 - val_loss: 5.4615 - val_char_1_loss: 0.4900 - val_char_2_loss: 0.9091 - val_char_3_loss: 1.4883 - val_char_4_loss: 1.6708 - val_char_5_loss: 0.9033 - val_char_1_accuracy: 0.8465 - val_char_2_accuracy: 0.7445 - val_char_3_accuracy: 0.6140 - val_char_4_accuracy: 0.5580 - val_char_5_accuracy: 0.7440\n",
            "Epoch 11/240\n",
            "500/500 [==============================] - 5s 9ms/step - loss: 6.4248 - char_1_loss: 0.6939 - char_2_loss: 1.0423 - char_3_loss: 1.6052 - char_4_loss: 1.9073 - char_5_loss: 1.1762 - char_1_accuracy: 0.7696 - char_2_accuracy: 0.6640 - char_3_accuracy: 0.5307 - char_4_accuracy: 0.4440 - char_5_accuracy: 0.6235 - val_loss: 5.5283 - val_char_1_loss: 0.5306 - val_char_2_loss: 0.9361 - val_char_3_loss: 1.4344 - val_char_4_loss: 1.6252 - val_char_5_loss: 1.0019 - val_char_1_accuracy: 0.8225 - val_char_2_accuracy: 0.7280 - val_char_3_accuracy: 0.6310 - val_char_4_accuracy: 0.5575 - val_char_5_accuracy: 0.6910\n",
            "Epoch 12/240\n",
            "500/500 [==============================] - 5s 9ms/step - loss: 6.0141 - char_1_loss: 0.6466 - char_2_loss: 0.9522 - char_3_loss: 1.5101 - char_4_loss: 1.8270 - char_5_loss: 1.0781 - char_1_accuracy: 0.7891 - char_2_accuracy: 0.6950 - char_3_accuracy: 0.5600 - char_4_accuracy: 0.4652 - char_5_accuracy: 0.6561 - val_loss: 4.6992 - val_char_1_loss: 0.3992 - val_char_2_loss: 0.7804 - val_char_3_loss: 1.3059 - val_char_4_loss: 1.5127 - val_char_5_loss: 0.7008 - val_char_1_accuracy: 0.8865 - val_char_2_accuracy: 0.7870 - val_char_3_accuracy: 0.6710 - val_char_4_accuracy: 0.6050 - val_char_5_accuracy: 0.8095\n",
            "Epoch 13/240\n",
            "500/500 [==============================] - 5s 9ms/step - loss: 5.6841 - char_1_loss: 0.6021 - char_2_loss: 0.8867 - char_3_loss: 1.4355 - char_4_loss: 1.7447 - char_5_loss: 1.0151 - char_1_accuracy: 0.8067 - char_2_accuracy: 0.7185 - char_3_accuracy: 0.5789 - char_4_accuracy: 0.4799 - char_5_accuracy: 0.6680 - val_loss: 4.3456 - val_char_1_loss: 0.3866 - val_char_2_loss: 0.7247 - val_char_3_loss: 1.1928 - val_char_4_loss: 1.4045 - val_char_5_loss: 0.6369 - val_char_1_accuracy: 0.8870 - val_char_2_accuracy: 0.8080 - val_char_3_accuracy: 0.7000 - val_char_4_accuracy: 0.6350 - val_char_5_accuracy: 0.8185\n",
            "Epoch 14/240\n",
            "500/500 [==============================] - 4s 9ms/step - loss: 5.3087 - char_1_loss: 0.5394 - char_2_loss: 0.8235 - char_3_loss: 1.3508 - char_4_loss: 1.6676 - char_5_loss: 0.9274 - char_1_accuracy: 0.8270 - char_2_accuracy: 0.7465 - char_3_accuracy: 0.5993 - char_4_accuracy: 0.5052 - char_5_accuracy: 0.7006 - val_loss: 4.1024 - val_char_1_loss: 0.3265 - val_char_2_loss: 0.6770 - val_char_3_loss: 1.1760 - val_char_4_loss: 1.3127 - val_char_5_loss: 0.6101 - val_char_1_accuracy: 0.9060 - val_char_2_accuracy: 0.8085 - val_char_3_accuracy: 0.7010 - val_char_4_accuracy: 0.6620 - val_char_5_accuracy: 0.8375\n",
            "Epoch 15/240\n",
            "500/500 [==============================] - 4s 9ms/step - loss: 5.0285 - char_1_loss: 0.5153 - char_2_loss: 0.7712 - char_3_loss: 1.2852 - char_4_loss: 1.5817 - char_5_loss: 0.8752 - char_1_accuracy: 0.8311 - char_2_accuracy: 0.7520 - char_3_accuracy: 0.6206 - char_4_accuracy: 0.5314 - char_5_accuracy: 0.7141 - val_loss: 3.9310 - val_char_1_loss: 0.3458 - val_char_2_loss: 0.6538 - val_char_3_loss: 1.1072 - val_char_4_loss: 1.2492 - val_char_5_loss: 0.5751 - val_char_1_accuracy: 0.9065 - val_char_2_accuracy: 0.8405 - val_char_3_accuracy: 0.7315 - val_char_4_accuracy: 0.6900 - val_char_5_accuracy: 0.8500\n",
            "Epoch 16/240\n",
            "500/500 [==============================] - 4s 9ms/step - loss: 4.8917 - char_1_loss: 0.4765 - char_2_loss: 0.7343 - char_3_loss: 1.2616 - char_4_loss: 1.5583 - char_5_loss: 0.8611 - char_1_accuracy: 0.8461 - char_2_accuracy: 0.7638 - char_3_accuracy: 0.6298 - char_4_accuracy: 0.5337 - char_5_accuracy: 0.7179 - val_loss: 3.8703 - val_char_1_loss: 0.3175 - val_char_2_loss: 0.6244 - val_char_3_loss: 1.1112 - val_char_4_loss: 1.2462 - val_char_5_loss: 0.5710 - val_char_1_accuracy: 0.9070 - val_char_2_accuracy: 0.8365 - val_char_3_accuracy: 0.7450 - val_char_4_accuracy: 0.6835 - val_char_5_accuracy: 0.8580\n",
            "Epoch 17/240\n",
            "500/500 [==============================] - 5s 9ms/step - loss: 4.5980 - char_1_loss: 0.4547 - char_2_loss: 0.7161 - char_3_loss: 1.1711 - char_4_loss: 1.4606 - char_5_loss: 0.7954 - char_1_accuracy: 0.8558 - char_2_accuracy: 0.7731 - char_3_accuracy: 0.6496 - char_4_accuracy: 0.5641 - char_5_accuracy: 0.7436 - val_loss: 3.7981 - val_char_1_loss: 0.3050 - val_char_2_loss: 0.6045 - val_char_3_loss: 1.0972 - val_char_4_loss: 1.2226 - val_char_5_loss: 0.5687 - val_char_1_accuracy: 0.9170 - val_char_2_accuracy: 0.8420 - val_char_3_accuracy: 0.7315 - val_char_4_accuracy: 0.6870 - val_char_5_accuracy: 0.8445\n",
            "Epoch 18/240\n",
            "500/500 [==============================] - 5s 9ms/step - loss: 4.4544 - char_1_loss: 0.4372 - char_2_loss: 0.6751 - char_3_loss: 1.1476 - char_4_loss: 1.4211 - char_5_loss: 0.7734 - char_1_accuracy: 0.8591 - char_2_accuracy: 0.7886 - char_3_accuracy: 0.6605 - char_4_accuracy: 0.5775 - char_5_accuracy: 0.7505 - val_loss: 3.9401 - val_char_1_loss: 0.3536 - val_char_2_loss: 0.6508 - val_char_3_loss: 1.1512 - val_char_4_loss: 1.2059 - val_char_5_loss: 0.5786 - val_char_1_accuracy: 0.8955 - val_char_2_accuracy: 0.8250 - val_char_3_accuracy: 0.7090 - val_char_4_accuracy: 0.6850 - val_char_5_accuracy: 0.8475\n",
            "Epoch 19/240\n",
            "500/500 [==============================] - 5s 9ms/step - loss: 4.3051 - char_1_loss: 0.4381 - char_2_loss: 0.6377 - char_3_loss: 1.0966 - char_4_loss: 1.4052 - char_5_loss: 0.7275 - char_1_accuracy: 0.8574 - char_2_accuracy: 0.7977 - char_3_accuracy: 0.6751 - char_4_accuracy: 0.5769 - char_5_accuracy: 0.7688 - val_loss: 3.7279 - val_char_1_loss: 0.3116 - val_char_2_loss: 0.5936 - val_char_3_loss: 1.0890 - val_char_4_loss: 1.2029 - val_char_5_loss: 0.5306 - val_char_1_accuracy: 0.9115 - val_char_2_accuracy: 0.8500 - val_char_3_accuracy: 0.7285 - val_char_4_accuracy: 0.7020 - val_char_5_accuracy: 0.8470\n",
            "Epoch 20/240\n",
            "500/500 [==============================] - 4s 9ms/step - loss: 4.1552 - char_1_loss: 0.4148 - char_2_loss: 0.6062 - char_3_loss: 1.0670 - char_4_loss: 1.3488 - char_5_loss: 0.7184 - char_1_accuracy: 0.8692 - char_2_accuracy: 0.8080 - char_3_accuracy: 0.6769 - char_4_accuracy: 0.5946 - char_5_accuracy: 0.7676 - val_loss: 3.3514 - val_char_1_loss: 0.2595 - val_char_2_loss: 0.5540 - val_char_3_loss: 0.9896 - val_char_4_loss: 1.0685 - val_char_5_loss: 0.4797 - val_char_1_accuracy: 0.9295 - val_char_2_accuracy: 0.8555 - val_char_3_accuracy: 0.7610 - val_char_4_accuracy: 0.7465 - val_char_5_accuracy: 0.8770\n",
            "Epoch 21/240\n",
            "500/500 [==============================] - 4s 9ms/step - loss: 4.0251 - char_1_loss: 0.3788 - char_2_loss: 0.5794 - char_3_loss: 1.0568 - char_4_loss: 1.3189 - char_5_loss: 0.6912 - char_1_accuracy: 0.8817 - char_2_accuracy: 0.8148 - char_3_accuracy: 0.6837 - char_4_accuracy: 0.6053 - char_5_accuracy: 0.7746 - val_loss: 3.3555 - val_char_1_loss: 0.2627 - val_char_2_loss: 0.5244 - val_char_3_loss: 1.0225 - val_char_4_loss: 1.0830 - val_char_5_loss: 0.4628 - val_char_1_accuracy: 0.9325 - val_char_2_accuracy: 0.8710 - val_char_3_accuracy: 0.7655 - val_char_4_accuracy: 0.7210 - val_char_5_accuracy: 0.8795\n",
            "Epoch 22/240\n",
            "500/500 [==============================] - 5s 9ms/step - loss: 3.9782 - char_1_loss: 0.4150 - char_2_loss: 0.5734 - char_3_loss: 1.0129 - char_4_loss: 1.2979 - char_5_loss: 0.6790 - char_1_accuracy: 0.8637 - char_2_accuracy: 0.8146 - char_3_accuracy: 0.6986 - char_4_accuracy: 0.6081 - char_5_accuracy: 0.7834 - val_loss: 3.4468 - val_char_1_loss: 0.2952 - val_char_2_loss: 0.5497 - val_char_3_loss: 0.9863 - val_char_4_loss: 1.1013 - val_char_5_loss: 0.5143 - val_char_1_accuracy: 0.9200 - val_char_2_accuracy: 0.8595 - val_char_3_accuracy: 0.7700 - val_char_4_accuracy: 0.7135 - val_char_5_accuracy: 0.8630\n",
            "Epoch 23/240\n",
            "500/500 [==============================] - 5s 9ms/step - loss: 3.8126 - char_1_loss: 0.3726 - char_2_loss: 0.5495 - char_3_loss: 0.9853 - char_4_loss: 1.2618 - char_5_loss: 0.6433 - char_1_accuracy: 0.8811 - char_2_accuracy: 0.8250 - char_3_accuracy: 0.7040 - char_4_accuracy: 0.6258 - char_5_accuracy: 0.7925 - val_loss: 3.1320 - val_char_1_loss: 0.2542 - val_char_2_loss: 0.4805 - val_char_3_loss: 0.9377 - val_char_4_loss: 1.0112 - val_char_5_loss: 0.4484 - val_char_1_accuracy: 0.9330 - val_char_2_accuracy: 0.8820 - val_char_3_accuracy: 0.7850 - val_char_4_accuracy: 0.7575 - val_char_5_accuracy: 0.8890\n",
            "Epoch 24/240\n",
            "500/500 [==============================] - 4s 9ms/step - loss: 3.7395 - char_1_loss: 0.3611 - char_2_loss: 0.5411 - char_3_loss: 0.9693 - char_4_loss: 1.2513 - char_5_loss: 0.6167 - char_1_accuracy: 0.8867 - char_2_accuracy: 0.8234 - char_3_accuracy: 0.7040 - char_4_accuracy: 0.6225 - char_5_accuracy: 0.7970 - val_loss: 3.2955 - val_char_1_loss: 0.2738 - val_char_2_loss: 0.5326 - val_char_3_loss: 0.9707 - val_char_4_loss: 1.0292 - val_char_5_loss: 0.4892 - val_char_1_accuracy: 0.9340 - val_char_2_accuracy: 0.8695 - val_char_3_accuracy: 0.7805 - val_char_4_accuracy: 0.7360 - val_char_5_accuracy: 0.8730\n",
            "Epoch 25/240\n",
            "500/500 [==============================] - 4s 9ms/step - loss: 3.6098 - char_1_loss: 0.3580 - char_2_loss: 0.5074 - char_3_loss: 0.9456 - char_4_loss: 1.1867 - char_5_loss: 0.6121 - char_1_accuracy: 0.8824 - char_2_accuracy: 0.8354 - char_3_accuracy: 0.7157 - char_4_accuracy: 0.6375 - char_5_accuracy: 0.8004 - val_loss: 3.1210 - val_char_1_loss: 0.2613 - val_char_2_loss: 0.4930 - val_char_3_loss: 0.9099 - val_char_4_loss: 1.0251 - val_char_5_loss: 0.4317 - val_char_1_accuracy: 0.9325 - val_char_2_accuracy: 0.8745 - val_char_3_accuracy: 0.8000 - val_char_4_accuracy: 0.7445 - val_char_5_accuracy: 0.8880\n",
            "Epoch 26/240\n",
            "500/500 [==============================] - 5s 11ms/step - loss: 3.5577 - char_1_loss: 0.3621 - char_2_loss: 0.5056 - char_3_loss: 0.9311 - char_4_loss: 1.1696 - char_5_loss: 0.5893 - char_1_accuracy: 0.8849 - char_2_accuracy: 0.8405 - char_3_accuracy: 0.7172 - char_4_accuracy: 0.6401 - char_5_accuracy: 0.8124 - val_loss: 3.3500 - val_char_1_loss: 0.3154 - val_char_2_loss: 0.5343 - val_char_3_loss: 1.0106 - val_char_4_loss: 1.0226 - val_char_5_loss: 0.4670 - val_char_1_accuracy: 0.9115 - val_char_2_accuracy: 0.8660 - val_char_3_accuracy: 0.7700 - val_char_4_accuracy: 0.7405 - val_char_5_accuracy: 0.8830\n",
            "Epoch 27/240\n",
            "500/500 [==============================] - 4s 9ms/step - loss: 3.4606 - char_1_loss: 0.3407 - char_2_loss: 0.4904 - char_3_loss: 0.8858 - char_4_loss: 1.1637 - char_5_loss: 0.5800 - char_1_accuracy: 0.8944 - char_2_accuracy: 0.8440 - char_3_accuracy: 0.7270 - char_4_accuracy: 0.6429 - char_5_accuracy: 0.8086 - val_loss: 3.1548 - val_char_1_loss: 0.2624 - val_char_2_loss: 0.5030 - val_char_3_loss: 0.9546 - val_char_4_loss: 1.0169 - val_char_5_loss: 0.4179 - val_char_1_accuracy: 0.9330 - val_char_2_accuracy: 0.8815 - val_char_3_accuracy: 0.7985 - val_char_4_accuracy: 0.7610 - val_char_5_accuracy: 0.8925\n",
            "Epoch 28/240\n",
            "500/500 [==============================] - 5s 9ms/step - loss: 3.4460 - char_1_loss: 0.3364 - char_2_loss: 0.4800 - char_3_loss: 0.8905 - char_4_loss: 1.1623 - char_5_loss: 0.5768 - char_1_accuracy: 0.8929 - char_2_accuracy: 0.8453 - char_3_accuracy: 0.7264 - char_4_accuracy: 0.6403 - char_5_accuracy: 0.8141 - val_loss: 3.4276 - val_char_1_loss: 0.3132 - val_char_2_loss: 0.5344 - val_char_3_loss: 1.0079 - val_char_4_loss: 1.1070 - val_char_5_loss: 0.4650 - val_char_1_accuracy: 0.9230 - val_char_2_accuracy: 0.8740 - val_char_3_accuracy: 0.7805 - val_char_4_accuracy: 0.7350 - val_char_5_accuracy: 0.8785\n",
            "Epoch 29/240\n",
            "500/500 [==============================] - 5s 9ms/step - loss: 3.3577 - char_1_loss: 0.3278 - char_2_loss: 0.4610 - char_3_loss: 0.8577 - char_4_loss: 1.1489 - char_5_loss: 0.5624 - char_1_accuracy: 0.8941 - char_2_accuracy: 0.8531 - char_3_accuracy: 0.7421 - char_4_accuracy: 0.6510 - char_5_accuracy: 0.8227 - val_loss: 3.0226 - val_char_1_loss: 0.2430 - val_char_2_loss: 0.4594 - val_char_3_loss: 0.9306 - val_char_4_loss: 0.9839 - val_char_5_loss: 0.4056 - val_char_1_accuracy: 0.9340 - val_char_2_accuracy: 0.8785 - val_char_3_accuracy: 0.8075 - val_char_4_accuracy: 0.7590 - val_char_5_accuracy: 0.8915\n",
            "Epoch 30/240\n",
            "500/500 [==============================] - 4s 9ms/step - loss: 3.2861 - char_1_loss: 0.3035 - char_2_loss: 0.4556 - char_3_loss: 0.8691 - char_4_loss: 1.1194 - char_5_loss: 0.5385 - char_1_accuracy: 0.9082 - char_2_accuracy: 0.8528 - char_3_accuracy: 0.7341 - char_4_accuracy: 0.6551 - char_5_accuracy: 0.8303 - val_loss: 3.0204 - val_char_1_loss: 0.2647 - val_char_2_loss: 0.4496 - val_char_3_loss: 0.9054 - val_char_4_loss: 0.9976 - val_char_5_loss: 0.4030 - val_char_1_accuracy: 0.9350 - val_char_2_accuracy: 0.8870 - val_char_3_accuracy: 0.8055 - val_char_4_accuracy: 0.7560 - val_char_5_accuracy: 0.8925\n",
            "Epoch 31/240\n",
            "500/500 [==============================] - 5s 9ms/step - loss: 3.2199 - char_1_loss: 0.2998 - char_2_loss: 0.4575 - char_3_loss: 0.8345 - char_4_loss: 1.1021 - char_5_loss: 0.5259 - char_1_accuracy: 0.9015 - char_2_accuracy: 0.8506 - char_3_accuracy: 0.7469 - char_4_accuracy: 0.6649 - char_5_accuracy: 0.8249 - val_loss: 2.9930 - val_char_1_loss: 0.2717 - val_char_2_loss: 0.4569 - val_char_3_loss: 0.9003 - val_char_4_loss: 0.9594 - val_char_5_loss: 0.4046 - val_char_1_accuracy: 0.9285 - val_char_2_accuracy: 0.8815 - val_char_3_accuracy: 0.7985 - val_char_4_accuracy: 0.7640 - val_char_5_accuracy: 0.8970\n",
            "Epoch 32/240\n",
            "500/500 [==============================] - 5s 9ms/step - loss: 3.2209 - char_1_loss: 0.3135 - char_2_loss: 0.4444 - char_3_loss: 0.8278 - char_4_loss: 1.1043 - char_5_loss: 0.5310 - char_1_accuracy: 0.9025 - char_2_accuracy: 0.8593 - char_3_accuracy: 0.7464 - char_4_accuracy: 0.6596 - char_5_accuracy: 0.8274 - val_loss: 2.8732 - val_char_1_loss: 0.2412 - val_char_2_loss: 0.4314 - val_char_3_loss: 0.8755 - val_char_4_loss: 0.9307 - val_char_5_loss: 0.3944 - val_char_1_accuracy: 0.9420 - val_char_2_accuracy: 0.8960 - val_char_3_accuracy: 0.8110 - val_char_4_accuracy: 0.7840 - val_char_5_accuracy: 0.9005\n",
            "Epoch 33/240\n",
            "500/500 [==============================] - 5s 9ms/step - loss: 3.1172 - char_1_loss: 0.2946 - char_2_loss: 0.4260 - char_3_loss: 0.8211 - char_4_loss: 1.0687 - char_5_loss: 0.5068 - char_1_accuracy: 0.9057 - char_2_accuracy: 0.8651 - char_3_accuracy: 0.7454 - char_4_accuracy: 0.6640 - char_5_accuracy: 0.8355 - val_loss: 3.0618 - val_char_1_loss: 0.2577 - val_char_2_loss: 0.4644 - val_char_3_loss: 0.9450 - val_char_4_loss: 0.9696 - val_char_5_loss: 0.4251 - val_char_1_accuracy: 0.9430 - val_char_2_accuracy: 0.8930 - val_char_3_accuracy: 0.7905 - val_char_4_accuracy: 0.7675 - val_char_5_accuracy: 0.8805\n",
            "Epoch 34/240\n",
            "500/500 [==============================] - 5s 9ms/step - loss: 3.0928 - char_1_loss: 0.2960 - char_2_loss: 0.4217 - char_3_loss: 0.7986 - char_4_loss: 1.0675 - char_5_loss: 0.5089 - char_1_accuracy: 0.9072 - char_2_accuracy: 0.8681 - char_3_accuracy: 0.7519 - char_4_accuracy: 0.6621 - char_5_accuracy: 0.8391 - val_loss: 3.1055 - val_char_1_loss: 0.2368 - val_char_2_loss: 0.5279 - val_char_3_loss: 0.9558 - val_char_4_loss: 0.9640 - val_char_5_loss: 0.4210 - val_char_1_accuracy: 0.9455 - val_char_2_accuracy: 0.8790 - val_char_3_accuracy: 0.7980 - val_char_4_accuracy: 0.7595 - val_char_5_accuracy: 0.8870\n",
            "Epoch 35/240\n",
            "500/500 [==============================] - 5s 9ms/step - loss: 3.0198 - char_1_loss: 0.2865 - char_2_loss: 0.4198 - char_3_loss: 0.7841 - char_4_loss: 1.0400 - char_5_loss: 0.4894 - char_1_accuracy: 0.9081 - char_2_accuracy: 0.8637 - char_3_accuracy: 0.7556 - char_4_accuracy: 0.6844 - char_5_accuracy: 0.8395 - val_loss: 2.9205 - val_char_1_loss: 0.2654 - val_char_2_loss: 0.4471 - val_char_3_loss: 0.9158 - val_char_4_loss: 0.9232 - val_char_5_loss: 0.3690 - val_char_1_accuracy: 0.9365 - val_char_2_accuracy: 0.8915 - val_char_3_accuracy: 0.7930 - val_char_4_accuracy: 0.7735 - val_char_5_accuracy: 0.9070\n",
            "Epoch 36/240\n",
            "500/500 [==============================] - 5s 9ms/step - loss: 2.9756 - char_1_loss: 0.2944 - char_2_loss: 0.4088 - char_3_loss: 0.7768 - char_4_loss: 1.0124 - char_5_loss: 0.4831 - char_1_accuracy: 0.9064 - char_2_accuracy: 0.8683 - char_3_accuracy: 0.7590 - char_4_accuracy: 0.6850 - char_5_accuracy: 0.8410 - val_loss: 3.4768 - val_char_1_loss: 0.3234 - val_char_2_loss: 0.5589 - val_char_3_loss: 1.0283 - val_char_4_loss: 0.9981 - val_char_5_loss: 0.5681 - val_char_1_accuracy: 0.9210 - val_char_2_accuracy: 0.8730 - val_char_3_accuracy: 0.7740 - val_char_4_accuracy: 0.7595 - val_char_5_accuracy: 0.8565\n",
            "Epoch 37/240\n",
            "500/500 [==============================] - 5s 9ms/step - loss: 2.9445 - char_1_loss: 0.2815 - char_2_loss: 0.3912 - char_3_loss: 0.7530 - char_4_loss: 1.0212 - char_5_loss: 0.4977 - char_1_accuracy: 0.9087 - char_2_accuracy: 0.8720 - char_3_accuracy: 0.7699 - char_4_accuracy: 0.6824 - char_5_accuracy: 0.8405 - val_loss: 2.8645 - val_char_1_loss: 0.2306 - val_char_2_loss: 0.4403 - val_char_3_loss: 0.8798 - val_char_4_loss: 0.9106 - val_char_5_loss: 0.4032 - val_char_1_accuracy: 0.9440 - val_char_2_accuracy: 0.8935 - val_char_3_accuracy: 0.8075 - val_char_4_accuracy: 0.7850 - val_char_5_accuracy: 0.8925\n",
            "Epoch 38/240\n",
            "500/500 [==============================] - 5s 10ms/step - loss: 2.9018 - char_1_loss: 0.2749 - char_2_loss: 0.3915 - char_3_loss: 0.7578 - char_4_loss: 1.0073 - char_5_loss: 0.4703 - char_1_accuracy: 0.9120 - char_2_accuracy: 0.8717 - char_3_accuracy: 0.7656 - char_4_accuracy: 0.6898 - char_5_accuracy: 0.8411 - val_loss: 2.9555 - val_char_1_loss: 0.2327 - val_char_2_loss: 0.4449 - val_char_3_loss: 0.9429 - val_char_4_loss: 0.9473 - val_char_5_loss: 0.3878 - val_char_1_accuracy: 0.9470 - val_char_2_accuracy: 0.8920 - val_char_3_accuracy: 0.8090 - val_char_4_accuracy: 0.7795 - val_char_5_accuracy: 0.8975\n",
            "Epoch 39/240\n",
            "500/500 [==============================] - 5s 9ms/step - loss: 2.8931 - char_1_loss: 0.2750 - char_2_loss: 0.3944 - char_3_loss: 0.7309 - char_4_loss: 1.0143 - char_5_loss: 0.4785 - char_1_accuracy: 0.9106 - char_2_accuracy: 0.8733 - char_3_accuracy: 0.7686 - char_4_accuracy: 0.6823 - char_5_accuracy: 0.8445 - val_loss: 2.9556 - val_char_1_loss: 0.2508 - val_char_2_loss: 0.4709 - val_char_3_loss: 0.9228 - val_char_4_loss: 0.9520 - val_char_5_loss: 0.3593 - val_char_1_accuracy: 0.9425 - val_char_2_accuracy: 0.8930 - val_char_3_accuracy: 0.8090 - val_char_4_accuracy: 0.7795 - val_char_5_accuracy: 0.9110\n",
            "Epoch 40/240\n",
            "500/500 [==============================] - 5s 9ms/step - loss: 2.8389 - char_1_loss: 0.2637 - char_2_loss: 0.3866 - char_3_loss: 0.7247 - char_4_loss: 0.9888 - char_5_loss: 0.4751 - char_1_accuracy: 0.9147 - char_2_accuracy: 0.8741 - char_3_accuracy: 0.7701 - char_4_accuracy: 0.6931 - char_5_accuracy: 0.8441 - val_loss: 2.9407 - val_char_1_loss: 0.2561 - val_char_2_loss: 0.4489 - val_char_3_loss: 0.9140 - val_char_4_loss: 0.9256 - val_char_5_loss: 0.3961 - val_char_1_accuracy: 0.9365 - val_char_2_accuracy: 0.8945 - val_char_3_accuracy: 0.8010 - val_char_4_accuracy: 0.7785 - val_char_5_accuracy: 0.8935\n",
            "Epoch 41/240\n",
            "500/500 [==============================] - 5s 10ms/step - loss: 2.8142 - char_1_loss: 0.2659 - char_2_loss: 0.3693 - char_3_loss: 0.7202 - char_4_loss: 0.9888 - char_5_loss: 0.4699 - char_1_accuracy: 0.9162 - char_2_accuracy: 0.8800 - char_3_accuracy: 0.7747 - char_4_accuracy: 0.6911 - char_5_accuracy: 0.8479 - val_loss: 2.9068 - val_char_1_loss: 0.2485 - val_char_2_loss: 0.4383 - val_char_3_loss: 0.9107 - val_char_4_loss: 0.9517 - val_char_5_loss: 0.3576 - val_char_1_accuracy: 0.9385 - val_char_2_accuracy: 0.8985 - val_char_3_accuracy: 0.8095 - val_char_4_accuracy: 0.7810 - val_char_5_accuracy: 0.9040\n",
            "Epoch 42/240\n",
            "500/500 [==============================] - 5s 10ms/step - loss: 2.7806 - char_1_loss: 0.2636 - char_2_loss: 0.3752 - char_3_loss: 0.7389 - char_4_loss: 0.9522 - char_5_loss: 0.4507 - char_1_accuracy: 0.9140 - char_2_accuracy: 0.8764 - char_3_accuracy: 0.7640 - char_4_accuracy: 0.6988 - char_5_accuracy: 0.8520 - val_loss: 2.8091 - val_char_1_loss: 0.2375 - val_char_2_loss: 0.4109 - val_char_3_loss: 0.8999 - val_char_4_loss: 0.9008 - val_char_5_loss: 0.3599 - val_char_1_accuracy: 0.9455 - val_char_2_accuracy: 0.9045 - val_char_3_accuracy: 0.8215 - val_char_4_accuracy: 0.7995 - val_char_5_accuracy: 0.9155\n",
            "Epoch 43/240\n",
            "500/500 [==============================] - 5s 9ms/step - loss: 2.7464 - char_1_loss: 0.2633 - char_2_loss: 0.3581 - char_3_loss: 0.6963 - char_4_loss: 0.9701 - char_5_loss: 0.4586 - char_1_accuracy: 0.9126 - char_2_accuracy: 0.8832 - char_3_accuracy: 0.7810 - char_4_accuracy: 0.6929 - char_5_accuracy: 0.8495 - val_loss: 2.7962 - val_char_1_loss: 0.2224 - val_char_2_loss: 0.4611 - val_char_3_loss: 0.8549 - val_char_4_loss: 0.9018 - val_char_5_loss: 0.3560 - val_char_1_accuracy: 0.9420 - val_char_2_accuracy: 0.8950 - val_char_3_accuracy: 0.8300 - val_char_4_accuracy: 0.7815 - val_char_5_accuracy: 0.9135\n",
            "Epoch 44/240\n",
            "500/500 [==============================] - 5s 10ms/step - loss: 2.7196 - char_1_loss: 0.2579 - char_2_loss: 0.3618 - char_3_loss: 0.6985 - char_4_loss: 0.9565 - char_5_loss: 0.4448 - char_1_accuracy: 0.9147 - char_2_accuracy: 0.8841 - char_3_accuracy: 0.7761 - char_4_accuracy: 0.6988 - char_5_accuracy: 0.8555 - val_loss: 2.9104 - val_char_1_loss: 0.2426 - val_char_2_loss: 0.4425 - val_char_3_loss: 0.8912 - val_char_4_loss: 0.9366 - val_char_5_loss: 0.3974 - val_char_1_accuracy: 0.9455 - val_char_2_accuracy: 0.8970 - val_char_3_accuracy: 0.8220 - val_char_4_accuracy: 0.7890 - val_char_5_accuracy: 0.8880\n",
            "Epoch 45/240\n",
            "500/500 [==============================] - 5s 10ms/step - loss: 2.6591 - char_1_loss: 0.2459 - char_2_loss: 0.3510 - char_3_loss: 0.6894 - char_4_loss: 0.9342 - char_5_loss: 0.4386 - char_1_accuracy: 0.9230 - char_2_accuracy: 0.8817 - char_3_accuracy: 0.7788 - char_4_accuracy: 0.7038 - char_5_accuracy: 0.8556 - val_loss: 2.8565 - val_char_1_loss: 0.2423 - val_char_2_loss: 0.4723 - val_char_3_loss: 0.8742 - val_char_4_loss: 0.8889 - val_char_5_loss: 0.3788 - val_char_1_accuracy: 0.9455 - val_char_2_accuracy: 0.9030 - val_char_3_accuracy: 0.8255 - val_char_4_accuracy: 0.7970 - val_char_5_accuracy: 0.9065\n",
            "Epoch 46/240\n",
            "500/500 [==============================] - 5s 10ms/step - loss: 2.6428 - char_1_loss: 0.2467 - char_2_loss: 0.3513 - char_3_loss: 0.6869 - char_4_loss: 0.9359 - char_5_loss: 0.4220 - char_1_accuracy: 0.9215 - char_2_accuracy: 0.8830 - char_3_accuracy: 0.7850 - char_4_accuracy: 0.7015 - char_5_accuracy: 0.8629 - val_loss: 2.8475 - val_char_1_loss: 0.2417 - val_char_2_loss: 0.4368 - val_char_3_loss: 0.8940 - val_char_4_loss: 0.8969 - val_char_5_loss: 0.3781 - val_char_1_accuracy: 0.9425 - val_char_2_accuracy: 0.9045 - val_char_3_accuracy: 0.8235 - val_char_4_accuracy: 0.7960 - val_char_5_accuracy: 0.9070\n",
            "Epoch 47/240\n",
            "500/500 [==============================] - 5s 10ms/step - loss: 2.6248 - char_1_loss: 0.2390 - char_2_loss: 0.3526 - char_3_loss: 0.6814 - char_4_loss: 0.9131 - char_5_loss: 0.4387 - char_1_accuracy: 0.9208 - char_2_accuracy: 0.8855 - char_3_accuracy: 0.7880 - char_4_accuracy: 0.7104 - char_5_accuracy: 0.8577 - val_loss: 2.7096 - val_char_1_loss: 0.2188 - val_char_2_loss: 0.4358 - val_char_3_loss: 0.8513 - val_char_4_loss: 0.8650 - val_char_5_loss: 0.3386 - val_char_1_accuracy: 0.9450 - val_char_2_accuracy: 0.9035 - val_char_3_accuracy: 0.8290 - val_char_4_accuracy: 0.7990 - val_char_5_accuracy: 0.9170\n",
            "Epoch 48/240\n",
            "500/500 [==============================] - 5s 10ms/step - loss: 2.5327 - char_1_loss: 0.2254 - char_2_loss: 0.3401 - char_3_loss: 0.6524 - char_4_loss: 0.9085 - char_5_loss: 0.4063 - char_1_accuracy: 0.9275 - char_2_accuracy: 0.8878 - char_3_accuracy: 0.7894 - char_4_accuracy: 0.7116 - char_5_accuracy: 0.8670 - val_loss: 2.8085 - val_char_1_loss: 0.2462 - val_char_2_loss: 0.4309 - val_char_3_loss: 0.9216 - val_char_4_loss: 0.8669 - val_char_5_loss: 0.3429 - val_char_1_accuracy: 0.9465 - val_char_2_accuracy: 0.9065 - val_char_3_accuracy: 0.8235 - val_char_4_accuracy: 0.7980 - val_char_5_accuracy: 0.9155\n",
            "Epoch 49/240\n",
            "500/500 [==============================] - 5s 10ms/step - loss: 2.5307 - char_1_loss: 0.2378 - char_2_loss: 0.3337 - char_3_loss: 0.6600 - char_4_loss: 0.8978 - char_5_loss: 0.4013 - char_1_accuracy: 0.9218 - char_2_accuracy: 0.8892 - char_3_accuracy: 0.7891 - char_4_accuracy: 0.7143 - char_5_accuracy: 0.8656 - val_loss: 2.7706 - val_char_1_loss: 0.2234 - val_char_2_loss: 0.4478 - val_char_3_loss: 0.8758 - val_char_4_loss: 0.8856 - val_char_5_loss: 0.3380 - val_char_1_accuracy: 0.9470 - val_char_2_accuracy: 0.9065 - val_char_3_accuracy: 0.8250 - val_char_4_accuracy: 0.7850 - val_char_5_accuracy: 0.9285\n",
            "Epoch 50/240\n",
            "500/500 [==============================] - 5s 9ms/step - loss: 2.5403 - char_1_loss: 0.2276 - char_2_loss: 0.3379 - char_3_loss: 0.6679 - char_4_loss: 0.8870 - char_5_loss: 0.4198 - char_1_accuracy: 0.9260 - char_2_accuracy: 0.8874 - char_3_accuracy: 0.7954 - char_4_accuracy: 0.7144 - char_5_accuracy: 0.8658 - val_loss: 3.2540 - val_char_1_loss: 0.3559 - val_char_2_loss: 0.5475 - val_char_3_loss: 0.9610 - val_char_4_loss: 1.0118 - val_char_5_loss: 0.3778 - val_char_1_accuracy: 0.9195 - val_char_2_accuracy: 0.8845 - val_char_3_accuracy: 0.8085 - val_char_4_accuracy: 0.7635 - val_char_5_accuracy: 0.9085\n",
            "Epoch 51/240\n",
            "500/500 [==============================] - 5s 9ms/step - loss: 2.5109 - char_1_loss: 0.2267 - char_2_loss: 0.3258 - char_3_loss: 0.6541 - char_4_loss: 0.9013 - char_5_loss: 0.4030 - char_1_accuracy: 0.9265 - char_2_accuracy: 0.8921 - char_3_accuracy: 0.7968 - char_4_accuracy: 0.7161 - char_5_accuracy: 0.8686 - val_loss: 2.8041 - val_char_1_loss: 0.2340 - val_char_2_loss: 0.4070 - val_char_3_loss: 0.8527 - val_char_4_loss: 0.8855 - val_char_5_loss: 0.4250 - val_char_1_accuracy: 0.9460 - val_char_2_accuracy: 0.9075 - val_char_3_accuracy: 0.8205 - val_char_4_accuracy: 0.7880 - val_char_5_accuracy: 0.8855\n",
            "Epoch 52/240\n",
            "500/500 [==============================] - 5s 10ms/step - loss: 2.4924 - char_1_loss: 0.2365 - char_2_loss: 0.3179 - char_3_loss: 0.6521 - char_4_loss: 0.8832 - char_5_loss: 0.4027 - char_1_accuracy: 0.9222 - char_2_accuracy: 0.8971 - char_3_accuracy: 0.7990 - char_4_accuracy: 0.7170 - char_5_accuracy: 0.8677 - val_loss: 2.7562 - val_char_1_loss: 0.2284 - val_char_2_loss: 0.4689 - val_char_3_loss: 0.8209 - val_char_4_loss: 0.8682 - val_char_5_loss: 0.3698 - val_char_1_accuracy: 0.9435 - val_char_2_accuracy: 0.9025 - val_char_3_accuracy: 0.8240 - val_char_4_accuracy: 0.7910 - val_char_5_accuracy: 0.9080\n",
            "Epoch 53/240\n",
            "500/500 [==============================] - 5s 9ms/step - loss: 2.4957 - char_1_loss: 0.2282 - char_2_loss: 0.3224 - char_3_loss: 0.6634 - char_4_loss: 0.8906 - char_5_loss: 0.3912 - char_1_accuracy: 0.9231 - char_2_accuracy: 0.8961 - char_3_accuracy: 0.7890 - char_4_accuracy: 0.7120 - char_5_accuracy: 0.8699 - val_loss: 2.8291 - val_char_1_loss: 0.2125 - val_char_2_loss: 0.4523 - val_char_3_loss: 0.8988 - val_char_4_loss: 0.9136 - val_char_5_loss: 0.3519 - val_char_1_accuracy: 0.9490 - val_char_2_accuracy: 0.9075 - val_char_3_accuracy: 0.8370 - val_char_4_accuracy: 0.8045 - val_char_5_accuracy: 0.9135\n",
            "Epoch 54/240\n",
            "500/500 [==============================] - 5s 10ms/step - loss: 2.4377 - char_1_loss: 0.2253 - char_2_loss: 0.3177 - char_3_loss: 0.6272 - char_4_loss: 0.8849 - char_5_loss: 0.3826 - char_1_accuracy: 0.9280 - char_2_accuracy: 0.8966 - char_3_accuracy: 0.7949 - char_4_accuracy: 0.7144 - char_5_accuracy: 0.8761 - val_loss: 2.9051 - val_char_1_loss: 0.2403 - val_char_2_loss: 0.4816 - val_char_3_loss: 0.8856 - val_char_4_loss: 0.9646 - val_char_5_loss: 0.3330 - val_char_1_accuracy: 0.9435 - val_char_2_accuracy: 0.9065 - val_char_3_accuracy: 0.8355 - val_char_4_accuracy: 0.7870 - val_char_5_accuracy: 0.9190\n",
            "Epoch 55/240\n",
            "500/500 [==============================] - 5s 9ms/step - loss: 2.4575 - char_1_loss: 0.2354 - char_2_loss: 0.3117 - char_3_loss: 0.6344 - char_4_loss: 0.8762 - char_5_loss: 0.3997 - char_1_accuracy: 0.9254 - char_2_accuracy: 0.8961 - char_3_accuracy: 0.7986 - char_4_accuracy: 0.7251 - char_5_accuracy: 0.8687 - val_loss: 2.8325 - val_char_1_loss: 0.2334 - val_char_2_loss: 0.4318 - val_char_3_loss: 0.8804 - val_char_4_loss: 0.9050 - val_char_5_loss: 0.3819 - val_char_1_accuracy: 0.9480 - val_char_2_accuracy: 0.9080 - val_char_3_accuracy: 0.8315 - val_char_4_accuracy: 0.7985 - val_char_5_accuracy: 0.9110\n",
            "Epoch 56/240\n",
            "500/500 [==============================] - 5s 10ms/step - loss: 2.4196 - char_1_loss: 0.2236 - char_2_loss: 0.3220 - char_3_loss: 0.6150 - char_4_loss: 0.8676 - char_5_loss: 0.3914 - char_1_accuracy: 0.9249 - char_2_accuracy: 0.8929 - char_3_accuracy: 0.8110 - char_4_accuracy: 0.7215 - char_5_accuracy: 0.8721 - val_loss: 2.7363 - val_char_1_loss: 0.2113 - val_char_2_loss: 0.4254 - val_char_3_loss: 0.8857 - val_char_4_loss: 0.8721 - val_char_5_loss: 0.3419 - val_char_1_accuracy: 0.9505 - val_char_2_accuracy: 0.9120 - val_char_3_accuracy: 0.8325 - val_char_4_accuracy: 0.8010 - val_char_5_accuracy: 0.9220\n",
            "Epoch 57/240\n",
            "500/500 [==============================] - 5s 10ms/step - loss: 2.3436 - char_1_loss: 0.2107 - char_2_loss: 0.3118 - char_3_loss: 0.6114 - char_4_loss: 0.8349 - char_5_loss: 0.3747 - char_1_accuracy: 0.9300 - char_2_accuracy: 0.8963 - char_3_accuracy: 0.8031 - char_4_accuracy: 0.7325 - char_5_accuracy: 0.8769 - val_loss: 2.8282 - val_char_1_loss: 0.2191 - val_char_2_loss: 0.4667 - val_char_3_loss: 0.8995 - val_char_4_loss: 0.9006 - val_char_5_loss: 0.3423 - val_char_1_accuracy: 0.9485 - val_char_2_accuracy: 0.9070 - val_char_3_accuracy: 0.8385 - val_char_4_accuracy: 0.7920 - val_char_5_accuracy: 0.9230\n",
            "Epoch 58/240\n",
            "500/500 [==============================] - 5s 10ms/step - loss: 2.3780 - char_1_loss: 0.2097 - char_2_loss: 0.2974 - char_3_loss: 0.6291 - char_4_loss: 0.8572 - char_5_loss: 0.3846 - char_1_accuracy: 0.9340 - char_2_accuracy: 0.9038 - char_3_accuracy: 0.7965 - char_4_accuracy: 0.7269 - char_5_accuracy: 0.8740 - val_loss: 3.0657 - val_char_1_loss: 0.2400 - val_char_2_loss: 0.4815 - val_char_3_loss: 0.9968 - val_char_4_loss: 0.9465 - val_char_5_loss: 0.4010 - val_char_1_accuracy: 0.9475 - val_char_2_accuracy: 0.9045 - val_char_3_accuracy: 0.8220 - val_char_4_accuracy: 0.7915 - val_char_5_accuracy: 0.9040\n",
            "Epoch 59/240\n",
            "500/500 [==============================] - 5s 10ms/step - loss: 2.3224 - char_1_loss: 0.2140 - char_2_loss: 0.3071 - char_3_loss: 0.6141 - char_4_loss: 0.8471 - char_5_loss: 0.3402 - char_1_accuracy: 0.9311 - char_2_accuracy: 0.8984 - char_3_accuracy: 0.8035 - char_4_accuracy: 0.7265 - char_5_accuracy: 0.8875 - val_loss: 2.8504 - val_char_1_loss: 0.2386 - val_char_2_loss: 0.4183 - val_char_3_loss: 0.9265 - val_char_4_loss: 0.9085 - val_char_5_loss: 0.3586 - val_char_1_accuracy: 0.9490 - val_char_2_accuracy: 0.9115 - val_char_3_accuracy: 0.8225 - val_char_4_accuracy: 0.8020 - val_char_5_accuracy: 0.9200\n",
            "Epoch 60/240\n",
            "500/500 [==============================] - 5s 10ms/step - loss: 2.3321 - char_1_loss: 0.2171 - char_2_loss: 0.3032 - char_3_loss: 0.5959 - char_4_loss: 0.8599 - char_5_loss: 0.3561 - char_1_accuracy: 0.9286 - char_2_accuracy: 0.9024 - char_3_accuracy: 0.8054 - char_4_accuracy: 0.7300 - char_5_accuracy: 0.8834 - val_loss: 3.0002 - val_char_1_loss: 0.2946 - val_char_2_loss: 0.4649 - val_char_3_loss: 0.9553 - val_char_4_loss: 0.9393 - val_char_5_loss: 0.3462 - val_char_1_accuracy: 0.9435 - val_char_2_accuracy: 0.9095 - val_char_3_accuracy: 0.8175 - val_char_4_accuracy: 0.7875 - val_char_5_accuracy: 0.9230\n",
            "Epoch 61/240\n",
            "500/500 [==============================] - 6s 12ms/step - loss: 2.3256 - char_1_loss: 0.2092 - char_2_loss: 0.3015 - char_3_loss: 0.6106 - char_4_loss: 0.8328 - char_5_loss: 0.3714 - char_1_accuracy: 0.9325 - char_2_accuracy: 0.8990 - char_3_accuracy: 0.8052 - char_4_accuracy: 0.7349 - char_5_accuracy: 0.8813 - val_loss: 2.8829 - val_char_1_loss: 0.2708 - val_char_2_loss: 0.4428 - val_char_3_loss: 0.8995 - val_char_4_loss: 0.9212 - val_char_5_loss: 0.3487 - val_char_1_accuracy: 0.9485 - val_char_2_accuracy: 0.9100 - val_char_3_accuracy: 0.8425 - val_char_4_accuracy: 0.8045 - val_char_5_accuracy: 0.9215\n",
            "Epoch 62/240\n",
            "500/500 [==============================] - 5s 10ms/step - loss: 2.3189 - char_1_loss: 0.2131 - char_2_loss: 0.3094 - char_3_loss: 0.6067 - char_4_loss: 0.8293 - char_5_loss: 0.3604 - char_1_accuracy: 0.9321 - char_2_accuracy: 0.8950 - char_3_accuracy: 0.8060 - char_4_accuracy: 0.7318 - char_5_accuracy: 0.8821 - val_loss: 2.9602 - val_char_1_loss: 0.2793 - val_char_2_loss: 0.4575 - val_char_3_loss: 0.9123 - val_char_4_loss: 0.9230 - val_char_5_loss: 0.3881 - val_char_1_accuracy: 0.9405 - val_char_2_accuracy: 0.9105 - val_char_3_accuracy: 0.8255 - val_char_4_accuracy: 0.7835 - val_char_5_accuracy: 0.9155\n",
            "Epoch 63/240\n",
            "500/500 [==============================] - 5s 10ms/step - loss: 2.2851 - char_1_loss: 0.2086 - char_2_loss: 0.3002 - char_3_loss: 0.5905 - char_4_loss: 0.8310 - char_5_loss: 0.3548 - char_1_accuracy: 0.9319 - char_2_accuracy: 0.8980 - char_3_accuracy: 0.8114 - char_4_accuracy: 0.7327 - char_5_accuracy: 0.8808 - val_loss: 2.9062 - val_char_1_loss: 0.2239 - val_char_2_loss: 0.4190 - val_char_3_loss: 0.9574 - val_char_4_loss: 0.9543 - val_char_5_loss: 0.3517 - val_char_1_accuracy: 0.9505 - val_char_2_accuracy: 0.9100 - val_char_3_accuracy: 0.8325 - val_char_4_accuracy: 0.8080 - val_char_5_accuracy: 0.9225\n",
            "Epoch 64/240\n",
            "500/500 [==============================] - 5s 10ms/step - loss: 2.2802 - char_1_loss: 0.1988 - char_2_loss: 0.2924 - char_3_loss: 0.5802 - char_4_loss: 0.8400 - char_5_loss: 0.3689 - char_1_accuracy: 0.9361 - char_2_accuracy: 0.9034 - char_3_accuracy: 0.8129 - char_4_accuracy: 0.7325 - char_5_accuracy: 0.8823 - val_loss: 2.7987 - val_char_1_loss: 0.2164 - val_char_2_loss: 0.4348 - val_char_3_loss: 0.9023 - val_char_4_loss: 0.9284 - val_char_5_loss: 0.3168 - val_char_1_accuracy: 0.9540 - val_char_2_accuracy: 0.9120 - val_char_3_accuracy: 0.8305 - val_char_4_accuracy: 0.7910 - val_char_5_accuracy: 0.9245\n",
            "Epoch 65/240\n",
            "500/500 [==============================] - 5s 10ms/step - loss: 2.2147 - char_1_loss: 0.2146 - char_2_loss: 0.2865 - char_3_loss: 0.5816 - char_4_loss: 0.7971 - char_5_loss: 0.3349 - char_1_accuracy: 0.9326 - char_2_accuracy: 0.9043 - char_3_accuracy: 0.8116 - char_4_accuracy: 0.7475 - char_5_accuracy: 0.8891 - val_loss: 2.7933 - val_char_1_loss: 0.2289 - val_char_2_loss: 0.4148 - val_char_3_loss: 0.9102 - val_char_4_loss: 0.9174 - val_char_5_loss: 0.3219 - val_char_1_accuracy: 0.9495 - val_char_2_accuracy: 0.9150 - val_char_3_accuracy: 0.8360 - val_char_4_accuracy: 0.8020 - val_char_5_accuracy: 0.9215\n",
            "Epoch 66/240\n",
            "500/500 [==============================] - 5s 10ms/step - loss: 2.2469 - char_1_loss: 0.2074 - char_2_loss: 0.3006 - char_3_loss: 0.5724 - char_4_loss: 0.8093 - char_5_loss: 0.3572 - char_1_accuracy: 0.9323 - char_2_accuracy: 0.9015 - char_3_accuracy: 0.8152 - char_4_accuracy: 0.7435 - char_5_accuracy: 0.8849 - val_loss: 2.7731 - val_char_1_loss: 0.2335 - val_char_2_loss: 0.4267 - val_char_3_loss: 0.8527 - val_char_4_loss: 0.9091 - val_char_5_loss: 0.3511 - val_char_1_accuracy: 0.9530 - val_char_2_accuracy: 0.9130 - val_char_3_accuracy: 0.8315 - val_char_4_accuracy: 0.8000 - val_char_5_accuracy: 0.9155\n",
            "Epoch 67/240\n",
            "500/500 [==============================] - 5s 10ms/step - loss: 2.1999 - char_1_loss: 0.2074 - char_2_loss: 0.2723 - char_3_loss: 0.5660 - char_4_loss: 0.8013 - char_5_loss: 0.3528 - char_1_accuracy: 0.9324 - char_2_accuracy: 0.9086 - char_3_accuracy: 0.8206 - char_4_accuracy: 0.7442 - char_5_accuracy: 0.8825 - val_loss: 2.7580 - val_char_1_loss: 0.2227 - val_char_2_loss: 0.4132 - val_char_3_loss: 0.8831 - val_char_4_loss: 0.9113 - val_char_5_loss: 0.3277 - val_char_1_accuracy: 0.9535 - val_char_2_accuracy: 0.9130 - val_char_3_accuracy: 0.8415 - val_char_4_accuracy: 0.8010 - val_char_5_accuracy: 0.9210\n",
            "Epoch 68/240\n",
            "500/500 [==============================] - 5s 10ms/step - loss: 2.2061 - char_1_loss: 0.1957 - char_2_loss: 0.2960 - char_3_loss: 0.5762 - char_4_loss: 0.7939 - char_5_loss: 0.3444 - char_1_accuracy: 0.9366 - char_2_accuracy: 0.9043 - char_3_accuracy: 0.8181 - char_4_accuracy: 0.7439 - char_5_accuracy: 0.8873 - val_loss: 2.9926 - val_char_1_loss: 0.2522 - val_char_2_loss: 0.4677 - val_char_3_loss: 0.9449 - val_char_4_loss: 0.9243 - val_char_5_loss: 0.4034 - val_char_1_accuracy: 0.9525 - val_char_2_accuracy: 0.9095 - val_char_3_accuracy: 0.8285 - val_char_4_accuracy: 0.8085 - val_char_5_accuracy: 0.9060\n",
            "Epoch 69/240\n",
            "500/500 [==============================] - 5s 10ms/step - loss: 2.1659 - char_1_loss: 0.2049 - char_2_loss: 0.2661 - char_3_loss: 0.5517 - char_4_loss: 0.7923 - char_5_loss: 0.3508 - char_1_accuracy: 0.9333 - char_2_accuracy: 0.9112 - char_3_accuracy: 0.8250 - char_4_accuracy: 0.7461 - char_5_accuracy: 0.8849 - val_loss: 2.6769 - val_char_1_loss: 0.2141 - val_char_2_loss: 0.4138 - val_char_3_loss: 0.8405 - val_char_4_loss: 0.8762 - val_char_5_loss: 0.3323 - val_char_1_accuracy: 0.9530 - val_char_2_accuracy: 0.9155 - val_char_3_accuracy: 0.8440 - val_char_4_accuracy: 0.8180 - val_char_5_accuracy: 0.9260\n",
            "Epoch 70/240\n",
            "500/500 [==============================] - 5s 10ms/step - loss: 2.1217 - char_1_loss: 0.2025 - char_2_loss: 0.2674 - char_3_loss: 0.5501 - char_4_loss: 0.7796 - char_5_loss: 0.3221 - char_1_accuracy: 0.9319 - char_2_accuracy: 0.9084 - char_3_accuracy: 0.8240 - char_4_accuracy: 0.7452 - char_5_accuracy: 0.8925 - val_loss: 2.8465 - val_char_1_loss: 0.2340 - val_char_2_loss: 0.4246 - val_char_3_loss: 0.9264 - val_char_4_loss: 0.9254 - val_char_5_loss: 0.3360 - val_char_1_accuracy: 0.9530 - val_char_2_accuracy: 0.9185 - val_char_3_accuracy: 0.8420 - val_char_4_accuracy: 0.8065 - val_char_5_accuracy: 0.9190\n",
            "Epoch 71/240\n",
            " 73/500 [===>..........................] - ETA: 3s - loss: 2.0844 - char_1_loss: 0.1964 - char_2_loss: 0.2525 - char_3_loss: 0.5681 - char_4_loss: 0.7510 - char_5_loss: 0.3164 - char_1_accuracy: 0.9384 - char_2_accuracy: 0.9127 - char_3_accuracy: 0.8134 - char_4_accuracy: 0.7560 - char_5_accuracy: 0.8861"
          ]
        }
      ]
    },
    {
      "cell_type": "code",
      "source": [
        "score = model.evaluate(X_test,[y_test[0], y_test[1], y_test[2], y_test[3], y_test[4]],verbose=1)\n",
        "\n",
        "print('Test Loss and accuracy:', score)"
      ],
      "metadata": {
        "colab": {
          "base_uri": "https://localhost:8080/"
        },
        "id": "YyCBswH-emLc",
        "outputId": "e8a24f31-cc54-45e2-bc77-e2ce2a82ba51"
      },
      "execution_count": 112,
      "outputs": [
        {
          "output_type": "stream",
          "name": "stdout",
          "text": [
            "286/286 [==============================] - 2s 7ms/step - loss: 1.7052 - char_1_loss: 0.1721 - char_2_loss: 0.2935 - char_3_loss: 0.4917 - char_4_loss: 0.4694 - char_5_loss: 0.2784 - char_1_accuracy: 0.9676 - char_2_accuracy: 0.9512 - char_3_accuracy: 0.9208 - char_4_accuracy: 0.9053 - char_5_accuracy: 0.9507\n",
            "Test Loss and accuracy: [1.7051615715026855, 0.17212316393852234, 0.29347801208496094, 0.49173402786254883, 0.46944889426231384, 0.2783777117729187, 0.967629075050354, 0.9512248635292053, 0.9208223819732666, 0.9052931070327759, 0.9506780505180359]\n"
          ]
        }
      ]
    },
    {
      "cell_type": "code",
      "source": [
        "plt.figure(figsize=(15,8))\n",
        "plt.plot(history.history['loss'])\n",
        "plt.plot(history.history['val_loss'])\n",
        "plt.title('model loss')\n",
        "plt.ylabel('loss')\n",
        "plt.xlabel('epoch')\n",
        "plt.legend(['train', 'test'], loc='upper left')\n",
        "plt.show()"
      ],
      "metadata": {
        "colab": {
          "base_uri": "https://localhost:8080/",
          "height": 513
        },
        "id": "TsetrFaueoyS",
        "outputId": "78f12804-8511-4b47-c594-1051b384e880"
      },
      "execution_count": 113,
      "outputs": [
        {
          "output_type": "display_data",
          "data": {
            "text/plain": [
              "<Figure size 1080x576 with 1 Axes>"
            ],
            "image/png": "[encoded data removed]"
          },
          "metadata": {
            "needs_background": "light"
          }
        }
      ]
    },
    {
      "cell_type": "code",
      "source": [
        "def makePredict(captcha):\n",
        "    captcha = np.reshape(captcha , (30,120))\n",
        "    result = model.predict(np.reshape(captcha, (1,30,212000,1)))\n",
        "    result = np.reshape(result ,(5,62))\n",
        "    indexes =[]\n",
        "    for i in result:\n",
        "        indexes.append(np.argmax(i))\n",
        "        \n",
        "    label=''\n",
        "    for i in indexes:\n",
        "        label += symbols[i]\n",
        "        \n",
        "    return label"
      ],
      "metadata": {
        "id": "JYqy_bLOer9i"
      },
      "execution_count": null,
      "outputs": []
    },
    {
      "cell_type": "code",
      "source": [
        "def predict(filepath):\n",
        "    img = cv2.imread(filepath, cv2.IMREAD_GRAYSCALE)\n",
        "\n",
        "    img=cv2.resize(img,[300,100])\n",
        "    kernel = np.ones((3,3), np.uint8)\n",
        "    img=cv2.dilate(img,kernel,iterations = 1)\n",
        "    ret,img=cv2.threshold(img,195,255,cv2.THRESH_BINARY)\n",
        "\n",
        "    img=cv2.resize(img,[120,30])\n",
        "\n",
        "\n",
        "    if img is not None:\n",
        "        img = img / 255.0\n",
        "    else:\n",
        "        print(\"Not detected\")\n",
        "        return '100000'\n",
        "    res = np.array(model.predict(img[np.newaxis, :, :, np.newaxis]))\n",
        "    ans = np.reshape(res, (5, 62))#-------------------------------------------------------\n",
        "    l_ind = []\n",
        "    probs = []\n",
        "    for a in ans:\n",
        "        l_ind.append(np.argmax(a))\n",
        "        #probs.append(np.max(a))\n",
        "\n",
        "    capt = ''\n",
        "    for l in l_ind:\n",
        "        capt += symbols[l]\n",
        "    return capt#, sum(probs) / 5"
      ],
      "metadata": {
        "id": "QIFzB7MceztL"
      },
      "execution_count": 114,
      "outputs": []
    },
    {
      "cell_type": "code",
      "source": [
        "image = cv2.imread(\"/content/ai_captcha/test/2CGez.png\")\n",
        "image = cv2.cvtColor(image, cv2.COLOR_BGR2GRAY)\n",
        "plt.imshow(image,cmap='gray')\n",
        "plt.show()\n",
        "image=cv2.resize(image,[300,100])\n",
        "kernel = np.ones((3,3), np.uint8)\n",
        "image=cv2.dilate(image,kernel,iterations = 1)\n",
        "ret,image=cv2.threshold(image,195,255,cv2.THRESH_BINARY)\n",
        "\n",
        "image1=cv2.resize(image,[120,30])\n",
        "plt.imshow(image1,cmap='gray')\n",
        "\n",
        "plt.show()"
      ],
      "metadata": {
        "colab": {
          "base_uri": "https://localhost:8080/",
          "height": 251
        },
        "id": "Lc1jUl_8NTTn",
        "outputId": "d01fab18-fba9-4ade-dd1d-ca60609701d4"
      },
      "execution_count": 121,
      "outputs": [
        {
          "output_type": "display_data",
          "data": {
            "text/plain": [
              "<Figure size 432x288 with 1 Axes>"
            ],
            "image/png": "[encoded data removed]"
          },
          "metadata": {
            "needs_background": "light"
          }
        },
        {
          "output_type": "display_data",
          "data": {
            "text/plain": [
              "<Figure size 432x288 with 1 Axes>"
            ],
            "image/png": "[encoded data removed]"
          },
          "metadata": {
            "needs_background": "light"
          }
        }
      ]
    },
    {
      "cell_type": "code",
      "source": [
        "\n",
        "\n",
        "while(1):\n",
        "    str_path =\"/content/ai_captcha/test/\" + input(\"path:\")+ \".png\"\n",
        "    if str_path == 'qqq':\n",
        "        break;\n",
        "    str=predict(str_path)\n",
        "    if str != '100000' :\n",
        "\n",
        "        print(str)"
      ],
      "metadata": {
        "id": "rz4KXgz4oyrV",
        "colab": {
          "base_uri": "https://localhost:8080/",
          "height": 896
        },
        "outputId": "64b89c41-b513-4339-91e3-30b37b996844"
      },
      "execution_count": 115,
      "outputs": [
        {
          "name": "stdout",
          "output_type": "stream",
          "text": [
            "path:06S3S\n",
            "1/1 [==============================] - 0s 142ms/step\n",
            "06S3S\n",
            "path:0c9ge\n",
            "1/1 [==============================] - 0s 20ms/step\n",
            "0a399\n",
            "path:1KT4M\n",
            "1/1 [==============================] - 0s 20ms/step\n",
            "1KT4M\n",
            "path:1p4QT\n",
            "1/1 [==============================] - 0s 18ms/step\n",
            "1p4QT\n",
            "path:2CGez\n",
            "1/1 [==============================] - 0s 22ms/step\n",
            "2CFse\n",
            "path:2itWL\n",
            "1/1 [==============================] - 0s 19ms/step\n",
            "2itmL\n",
            "path:3kv8G\n",
            "1/1 [==============================] - 0s 17ms/step\n",
            "3kv8G\n",
            "path:4ILTz\n",
            "1/1 [==============================] - 0s 18ms/step\n",
            "4ILTz\n",
            "path:5dOS3\n",
            "1/1 [==============================] - 0s 19ms/step\n",
            "5dOS3\n",
            "path:6B9F9\n",
            "1/1 [==============================] - 0s 17ms/step\n",
            "6B9F9\n",
            "path:qqq\n"
          ]
        },
        {
          "output_type": "error",
          "ename": "error",
          "evalue": "ignored",
          "traceback": [
            "\u001b[0;31m---------------------------------------------------------------------------\u001b[0m",
            "\u001b[0;31merror\u001b[0m                                     Traceback (most recent call last)",
            "\u001b[0;32m<ipython-input-115-23c8ba3a66da>\u001b[0m in \u001b[0;36m<module>\u001b[0;34m\u001b[0m\n\u001b[1;32m      3\u001b[0m     \u001b[0;32mif\u001b[0m \u001b[0mstr_path\u001b[0m \u001b[0;34m==\u001b[0m \u001b[0;34m'qqq'\u001b[0m\u001b[0;34m:\u001b[0m\u001b[0;34m\u001b[0m\u001b[0;34m\u001b[0m\u001b[0m\n\u001b[1;32m      4\u001b[0m         \u001b[0;32mbreak\u001b[0m\u001b[0;34m;\u001b[0m\u001b[0;34m\u001b[0m\u001b[0;34m\u001b[0m\u001b[0m\n\u001b[0;32m----> 5\u001b[0;31m     \u001b[0mstr\u001b[0m\u001b[0;34m=\u001b[0m\u001b[0mpredict\u001b[0m\u001b[0;34m(\u001b[0m\u001b[0mstr_path\u001b[0m\u001b[0;34m)\u001b[0m\u001b[0;34m\u001b[0m\u001b[0;34m\u001b[0m\u001b[0m\n\u001b[0m\u001b[1;32m      6\u001b[0m     \u001b[0;32mif\u001b[0m \u001b[0mstr\u001b[0m \u001b[0;34m!=\u001b[0m \u001b[0;34m'100000'\u001b[0m \u001b[0;34m:\u001b[0m\u001b[0;34m\u001b[0m\u001b[0;34m\u001b[0m\u001b[0m\n\u001b[1;32m      7\u001b[0m \u001b[0;34m\u001b[0m\u001b[0m\n",
            "\u001b[0;32m<ipython-input-114-dd7a37ee4cd4>\u001b[0m in \u001b[0;36mpredict\u001b[0;34m(filepath)\u001b[0m\n\u001b[1;32m      2\u001b[0m     \u001b[0mimg\u001b[0m \u001b[0;34m=\u001b[0m \u001b[0mcv2\u001b[0m\u001b[0;34m.\u001b[0m\u001b[0mimread\u001b[0m\u001b[0;34m(\u001b[0m\u001b[0mfilepath\u001b[0m\u001b[0;34m,\u001b[0m \u001b[0mcv2\u001b[0m\u001b[0;34m.\u001b[0m\u001b[0mIMREAD_GRAYSCALE\u001b[0m\u001b[0;34m)\u001b[0m\u001b[0;34m\u001b[0m\u001b[0;34m\u001b[0m\u001b[0m\n\u001b[1;32m      3\u001b[0m \u001b[0;34m\u001b[0m\u001b[0m\n\u001b[0;32m----> 4\u001b[0;31m     \u001b[0mimg\u001b[0m\u001b[0;34m=\u001b[0m\u001b[0mcv2\u001b[0m\u001b[0;34m.\u001b[0m\u001b[0mresize\u001b[0m\u001b[0;34m(\u001b[0m\u001b[0mimg\u001b[0m\u001b[0;34m,\u001b[0m\u001b[0;34m[\u001b[0m\u001b[0;36m300\u001b[0m\u001b[0;34m,\u001b[0m\u001b[0;36m100\u001b[0m\u001b[0;34m]\u001b[0m\u001b[0;34m)\u001b[0m\u001b[0;34m\u001b[0m\u001b[0;34m\u001b[0m\u001b[0m\n\u001b[0m\u001b[1;32m      5\u001b[0m     \u001b[0mkernel\u001b[0m \u001b[0;34m=\u001b[0m \u001b[0mnp\u001b[0m\u001b[0;34m.\u001b[0m\u001b[0mones\u001b[0m\u001b[0;34m(\u001b[0m\u001b[0;34m(\u001b[0m\u001b[0;36m3\u001b[0m\u001b[0;34m,\u001b[0m\u001b[0;36m3\u001b[0m\u001b[0;34m)\u001b[0m\u001b[0;34m,\u001b[0m \u001b[0mnp\u001b[0m\u001b[0;34m.\u001b[0m\u001b[0muint8\u001b[0m\u001b[0;34m)\u001b[0m\u001b[0;34m\u001b[0m\u001b[0;34m\u001b[0m\u001b[0m\n\u001b[1;32m      6\u001b[0m     \u001b[0mimg\u001b[0m\u001b[0;34m=\u001b[0m\u001b[0mcv2\u001b[0m\u001b[0;34m.\u001b[0m\u001b[0mdilate\u001b[0m\u001b[0;34m(\u001b[0m\u001b[0mimg\u001b[0m\u001b[0;34m,\u001b[0m\u001b[0mkernel\u001b[0m\u001b[0;34m,\u001b[0m\u001b[0miterations\u001b[0m \u001b[0;34m=\u001b[0m \u001b[0;36m1\u001b[0m\u001b[0;34m)\u001b[0m\u001b[0;34m\u001b[0m\u001b[0;34m\u001b[0m\u001b[0m\n",
            "\u001b[0;31merror\u001b[0m: OpenCV(4.6.0) /io/opencv/modules/imgproc/src/resize.cpp:4052: error: (-215:Assertion failed) !ssize.empty() in function 'resize'\n"
          ]
        }
      ]
    },
    {
      "cell_type": "code",
      "source": [
        "model.save('model_v4_3.h5')"
      ],
      "metadata": {
        "id": "umATl4nDq-18"
      },
      "execution_count": 122,
      "outputs": []
    }
  ]
}